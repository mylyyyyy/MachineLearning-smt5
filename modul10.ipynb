{
  "cells": [
    {
      "cell_type": "markdown",
      "metadata": {
        "id": "view-in-github",
        "colab_type": "text"
      },
      "source": [
        "<a href=\"https://colab.research.google.com/github/mylyyyyy/MachineLearning-smt5/blob/main/modul10.ipynb\" target=\"_parent\"><img src=\"https://colab.research.google.com/assets/colab-badge.svg\" alt=\"Open In Colab\"/></a>"
      ]
    },
    {
      "cell_type": "code",
      "execution_count": null,
      "id": "53c26b5b-d66d-4ef2-bd6c-b104e67c6a7d",
      "metadata": {
        "colab": {
          "base_uri": "https://localhost:8080/"
        },
        "id": "53c26b5b-d66d-4ef2-bd6c-b104e67c6a7d",
        "outputId": "c22fee4c-db8a-49d9-9aca-6e76e52b6d14"
      },
      "outputs": [
        {
          "output_type": "stream",
          "name": "stdout",
          "text": [
            "Num GPUs Available:  1\n"
          ]
        }
      ],
      "source": [
        "import numpy as np\n",
        "import tensorflow_datasets as tfds\n",
        "import tensorflow as tf\n",
        "print(\"Num GPUs Available: \", len(tf.config.list_physical_devices('GPU')))"
      ]
    },
    {
      "cell_type": "code",
      "execution_count": null,
      "id": "162cf0c9-91ef-4803-9d8a-dae2d3ec32ca",
      "metadata": {
        "colab": {
          "base_uri": "https://localhost:8080/",
          "height": 170,
          "referenced_widgets": [
            "95de53e399b748b68f36aff13bec4ce1",
            "b218fd9d70f54b18b6aaf96108dec592",
            "9185d53fc2ce4ba58c958fbf14cc70ae",
            "80e3000f7c5d43298783cbf059f18958",
            "e1e2e4b69c3447299996df24dbc10b46",
            "06ecdb542c984e37a81c99a594bdbe0d",
            "db7af2567e0643d0bc381cc3bd677e24",
            "41c91f3e9a9c4cefa2e540281428cf09",
            "45eb121d6d5343658aa9a548dc136cf0",
            "f8ee375987434cfe9140d785354be7ef",
            "bdc2fef4b6b04bad959ac825a12b17d9",
            "ef15d3dd50ec4f9c9e094d73412d6e94",
            "620054e5f1fa410faa0e167955ebf015",
            "f0683fce3d154266ad3fa9387ecb62ce",
            "a538d6aec1574bd5ae34de9d99627b83",
            "a692e391e47749768c33cb63830e7722",
            "e2bc0a7b0a484b21ae709a86676a6d39",
            "72cfe4a4f76e4abd886ae4c11014e593",
            "8ba3141a1a964db79b63e22b128500bb",
            "7d00d031fa7242168a187186fa067c57",
            "ed2788fa55884427996a4ea4754f0478",
            "c4d826f483d640a485e17c77c3487402",
            "2aa39c70d68442f5ad3cc2d6ebe7accd",
            "6cda04e632d34c78950b2d3510c2d22c",
            "f14de0c221d4400da5c81a2e86ad4676",
            "693a4566f1e44d75b09e0ad2adc0f8b6",
            "6ac0e866813b4817ab0ff39eacff1f57",
            "1b3fe311de2c470089377b80fce1b569",
            "ec8ab500701f409d9dbdc95ad2e7a7e2",
            "60236b29956b4d11b3bca65e11da5c40",
            "48a5e33437d840eda14efb13a3d6b4f4",
            "f62357e06dce4a5cba76263d784b02f0",
            "66342726fe894f02bdc4e2eaa4f5b222",
            "806da58db0b8481db75f77081c01c949",
            "41194669cd624757a07b8fd813de29c6",
            "4847b23a3c9a4be18d47c593945194e7",
            "345c131183084af6923fb36ea3634767",
            "910952ff1f594fbf9d6d6486bf14303e",
            "ea903d0e8a7b4b029d79211b67a8e561",
            "e344654bc93847458df4c053b49fe660",
            "897c4221cfd641fda904f6257cdad27e",
            "0327c15c0ddf4010b5f92cef9b18d7fa",
            "e5ebf6eb1a4b41938f688d234910cbf9",
            "ec5f65f9fe644e03863ef4b503edf6de",
            "73666796f071458a86a04a89b64e27cf",
            "4691d4c456104304a149c0a62a8fb703",
            "3137800986b340ed9da64ca6751fafed",
            "f6d496a3c21d4395b6289ea19a69ac82",
            "df91c9463428425fa67212007db66b7a",
            "598e0cfad8754f0abd1523e0cc0aaa71",
            "96c5aa7ad324419eb400dd38970d8929",
            "5cc2a5e17a654b79917ead0414dd29f0",
            "43520653129d4521b17a33165b45ec43",
            "1792448699eb4bd9a22d6b80afabaf7c",
            "7efea1a333594ef1aacaf6e7a6e43a36",
            "dc13ea0074cc404c97fe1899c7eb7d09",
            "81aa5553618046388b5548e0de4c3ff1",
            "c6e1b72d064646e781f12a74f945f003",
            "e27458a0743a4d72890d788d4f81c4c2",
            "e47b57406e304a1e929161ffaa9ad4ff",
            "2e9e3206d2c64e659a0afe9b3725ea4f",
            "da1b3c8ebb384b3da1de4777444a2b2f",
            "62882d52e6774f98af2cf8c11b010c73",
            "f1d40493c6ed4ccf8084a6e67fb7a165",
            "23fb0c5200614f12936380e221d02ce1",
            "c37fb387e26f4c20868024e4340106ac",
            "502de135e1ed48268d34e5671345ea9e",
            "4c097faed66945cca236285e4d480a36",
            "bac17af7380843ea9acf8ca0c583a82e",
            "054c7d42758f4d839acb43e8c90e1597",
            "0a59cfb5f81b4e969a74f9ad0e8669da",
            "26207cd8aa304c34abc1cfd6fda8ea34",
            "f5bf178fbf294f538be6ef9319e7427e",
            "13b80aefd8c7482895035ee2094ab95c",
            "9b10a521036c42968fcb031442722c45",
            "b9a905cb6b954f9e8ff0602b8784589d",
            "329af619b50e4b6a98c9c59c82d404da",
            "4577b38ca48b43329fb8a3ee92fd0275",
            "557f8b5f2b794b29bf0384c4e47fab0b",
            "8cd614f9fb6e447a8b8c5e74367cea06",
            "6e699556b7594d54830655a021b48ff0",
            "c745b45f935a434ba00d8cbd6515041a",
            "40cd4dc49cf24e8e9db39792e6d86652",
            "1dc49f6023c64c72860a8396f965ed28",
            "c32d33a4365543569bab7aac9c6ab06f",
            "b27fbe3c0a5e4356973843246f549b41",
            "25d76a9aa0f64e48982ce370cbd18c40",
            "7eb1dd1a451f4144a78928aca51dd180",
            "1d4b2c34c32a4bc683039077d13a1771",
            "85a8dae875aa414b9d88aab5a9fe4c38",
            "4c6ac894a95e4a018acba4a33ec8e68e",
            "502c0e3ee8194f069296b7c968ca4fb7",
            "7431882c19ff49aea83b37dbae512d96",
            "39b8a07da8f74b75859a02fa8248e0cf",
            "179215e42c774d5e829207f666b5d8ce",
            "16b183c2984b40eead805ca72a89c72b",
            "bb06ca10a75e4338b3d6c7da14cd5584",
            "9e0d69dd797d40d096ae43b0079ad82d",
            "842c621340574cc7a5b9d9b0f5c08efd"
          ]
        },
        "id": "162cf0c9-91ef-4803-9d8a-dae2d3ec32ca",
        "outputId": "62863bc5-6515-4860-fd17-acfed5beb70b"
      },
      "outputs": [
        {
          "output_type": "stream",
          "name": "stdout",
          "text": [
            "Downloading and preparing dataset 80.23 MiB (download: 80.23 MiB, generated: Unknown size, total: 80.23 MiB) to /root/tensorflow_datasets/imdb_reviews/plain_text/1.0.0...\n"
          ]
        },
        {
          "output_type": "display_data",
          "data": {
            "text/plain": [
              "Dl Completed...: 0 url [00:00, ? url/s]"
            ],
            "application/vnd.jupyter.widget-view+json": {
              "version_major": 2,
              "version_minor": 0,
              "model_id": "95de53e399b748b68f36aff13bec4ce1"
            }
          },
          "metadata": {}
        },
        {
          "output_type": "display_data",
          "data": {
            "text/plain": [
              "Dl Size...: 0 MiB [00:00, ? MiB/s]"
            ],
            "application/vnd.jupyter.widget-view+json": {
              "version_major": 2,
              "version_minor": 0,
              "model_id": "ef15d3dd50ec4f9c9e094d73412d6e94"
            }
          },
          "metadata": {}
        },
        {
          "output_type": "display_data",
          "data": {
            "text/plain": [
              "Generating splits...:   0%|          | 0/3 [00:00<?, ? splits/s]"
            ],
            "application/vnd.jupyter.widget-view+json": {
              "version_major": 2,
              "version_minor": 0,
              "model_id": "2aa39c70d68442f5ad3cc2d6ebe7accd"
            }
          },
          "metadata": {}
        },
        {
          "output_type": "display_data",
          "data": {
            "text/plain": [
              "Generating train examples...:   0%|          | 0/25000 [00:00<?, ? examples/s]"
            ],
            "application/vnd.jupyter.widget-view+json": {
              "version_major": 2,
              "version_minor": 0,
              "model_id": "806da58db0b8481db75f77081c01c949"
            }
          },
          "metadata": {}
        },
        {
          "output_type": "display_data",
          "data": {
            "text/plain": [
              "Shuffling /root/tensorflow_datasets/imdb_reviews/plain_text/1.0.0.incompleteV5YOZG/imdb_reviews-train.tfrecord…"
            ],
            "application/vnd.jupyter.widget-view+json": {
              "version_major": 2,
              "version_minor": 0,
              "model_id": "73666796f071458a86a04a89b64e27cf"
            }
          },
          "metadata": {}
        },
        {
          "output_type": "display_data",
          "data": {
            "text/plain": [
              "Generating test examples...:   0%|          | 0/25000 [00:00<?, ? examples/s]"
            ],
            "application/vnd.jupyter.widget-view+json": {
              "version_major": 2,
              "version_minor": 0,
              "model_id": "dc13ea0074cc404c97fe1899c7eb7d09"
            }
          },
          "metadata": {}
        },
        {
          "output_type": "display_data",
          "data": {
            "text/plain": [
              "Shuffling /root/tensorflow_datasets/imdb_reviews/plain_text/1.0.0.incompleteV5YOZG/imdb_reviews-test.tfrecord*…"
            ],
            "application/vnd.jupyter.widget-view+json": {
              "version_major": 2,
              "version_minor": 0,
              "model_id": "502de135e1ed48268d34e5671345ea9e"
            }
          },
          "metadata": {}
        },
        {
          "output_type": "display_data",
          "data": {
            "text/plain": [
              "Generating unsupervised examples...:   0%|          | 0/50000 [00:00<?, ? examples/s]"
            ],
            "application/vnd.jupyter.widget-view+json": {
              "version_major": 2,
              "version_minor": 0,
              "model_id": "4577b38ca48b43329fb8a3ee92fd0275"
            }
          },
          "metadata": {}
        },
        {
          "output_type": "display_data",
          "data": {
            "text/plain": [
              "Shuffling /root/tensorflow_datasets/imdb_reviews/plain_text/1.0.0.incompleteV5YOZG/imdb_reviews-unsupervised.t…"
            ],
            "application/vnd.jupyter.widget-view+json": {
              "version_major": 2,
              "version_minor": 0,
              "model_id": "1d4b2c34c32a4bc683039077d13a1771"
            }
          },
          "metadata": {}
        },
        {
          "output_type": "stream",
          "name": "stdout",
          "text": [
            "Dataset imdb_reviews downloaded and prepared to /root/tensorflow_datasets/imdb_reviews/plain_text/1.0.0. Subsequent calls will reuse this data.\n"
          ]
        },
        {
          "output_type": "execute_result",
          "data": {
            "text/plain": [
              "(TensorSpec(shape=(), dtype=tf.string, name=None),\n",
              " TensorSpec(shape=(), dtype=tf.int64, name=None))"
            ]
          },
          "metadata": {},
          "execution_count": 3
        }
      ],
      "source": [
        "import matplotlib.pyplot as plt\n",
        "\n",
        "def plot_graphs(history, metric):\n",
        "    plt.plot(history.history[metric])\n",
        "    plt.plot(history.history['val_'+metric], '')\n",
        "    plt.xlabel(\"Epochs\")\n",
        "    plt.ylabel(metric)\n",
        "    plt.legend([metric, 'val_'+metric])\n",
        "\n",
        "dataset, info = tfds.load('imdb_reviews', with_info=True, as_supervised=True)\n",
        "\n",
        "train_dataset, test_dataset = dataset['train'], dataset['test']\n",
        "\n",
        "train_dataset.element_spec"
      ]
    },
    {
      "cell_type": "markdown",
      "source": [
        "Kode tersebut berfungsi untuk memuat dataset tinjauan film IMDb menggunakan TensorFlow Datasets (tfds). Pertama, kode mendefinisikan fungsi plot_graphs untuk visualisasi riwayat pelatihan model menggunakan Matplotlib. Kemudian, dataset IMDb dimuat dengan argumen with_info=True untuk mendapatkan informasi tambahan tentang dataset, dan as_supervised=True untuk memuat dataset dalam format tupel yang berisi contoh dan labelnya. Hasilnya, dataset dibagi menjadi set pelatihan (train_dataset) dan pengujian (test_dataset). Meskipun ada pemanggilan element_spec, itu tidak digunakan dalam potongan kode ini. Potongan kode tersebut menjadi dasar untuk melatih model klasifikasi sentimen pada tinjauan film IMDb dan memvisualisasikan performanya."
      ],
      "metadata": {
        "id": "kRddjWAIitP7"
      },
      "id": "kRddjWAIitP7"
    },
    {
      "cell_type": "code",
      "execution_count": null,
      "id": "2404001e-612b-4409-88bd-080f3dbaa4ec",
      "metadata": {
        "colab": {
          "base_uri": "https://localhost:8080/"
        },
        "id": "2404001e-612b-4409-88bd-080f3dbaa4ec",
        "outputId": "0ac84132-dcb3-4b2a-da9d-ba2689cd83d2"
      },
      "outputs": [
        {
          "output_type": "execute_result",
          "data": {
            "text/plain": [
              "(TensorSpec(shape=(), dtype=tf.string, name=None),\n",
              " TensorSpec(shape=(), dtype=tf.int64, name=None))"
            ]
          },
          "metadata": {},
          "execution_count": 4
        }
      ],
      "source": [
        "dataset, info = tfds.load('imdb_reviews', with_info=True,\n",
        "                          as_supervised=True)\n",
        "train_dataset, test_dataset = dataset['train'], dataset['test']\n",
        "\n",
        "train_dataset.element_spec"
      ]
    },
    {
      "cell_type": "code",
      "execution_count": null,
      "id": "704adef4-1d89-4ea4-80a3-0aeb361ca9ab",
      "metadata": {
        "colab": {
          "base_uri": "https://localhost:8080/"
        },
        "id": "704adef4-1d89-4ea4-80a3-0aeb361ca9ab",
        "outputId": "7b3c5b6b-b42b-47d6-dc55-232a3376f57a"
      },
      "outputs": [
        {
          "output_type": "stream",
          "name": "stdout",
          "text": [
            "text:  b\"This was an absolutely terrible movie. Don't be lured in by Christopher Walken or Michael Ironside. Both are great actors, but this must simply be their worst role in history. Even their great acting could not redeem this movie's ridiculous storyline. This movie is an early nineties US propaganda piece. The most pathetic scenes were those when the Columbian rebels were making their cases for revolutions. Maria Conchita Alonso appeared phony, and her pseudo-love affair with Walken was nothing but a pathetic emotional plug in a movie that was devoid of any real meaning. I am disappointed that there are movies like this, ruining actor's like Christopher Walken's good name. I could barely sit through it.\"\n",
            "label:  0\n"
          ]
        }
      ],
      "source": [
        "for example, label in train_dataset.take(1):\n",
        "  print('text: ', example.numpy())\n",
        "  print('label: ', label.numpy())"
      ]
    },
    {
      "cell_type": "markdown",
      "source": [
        "Potongan kode tersebut menggunakan metode take(1) untuk mengambil satu contoh dari set pelatihan (train_dataset). Dalam setiap iterasi, kode mencetak teks dari contoh tersebut (example.numpy()) dan labelnya (label.numpy()). Dengan memanggil numpy(), data dalam bentuk TensorFlow tensor diubah menjadi format numpy untuk kemudahan pembacaan. Ini memberikan gambaran singkat tentang struktur data dalam dataset, memperlihatkan satu contoh teks dan labelnya. Dengan demikian, potongan kode ini membantu pengguna memahami format dan isi dari elemen-elemen dalam dataset pelatihan IMDb, yang berguna untuk pemahaman awal sebelum melibatkan dataset dalam pelatihan model klasifikasi sentimen atau tugas lainnya."
      ],
      "metadata": {
        "id": "UwxrHThYjZia"
      },
      "id": "UwxrHThYjZia"
    },
    {
      "cell_type": "code",
      "execution_count": null,
      "id": "bb90a1ff-5c1a-432a-999e-df75b766fcb7",
      "metadata": {
        "colab": {
          "base_uri": "https://localhost:8080/"
        },
        "id": "bb90a1ff-5c1a-432a-999e-df75b766fcb7",
        "outputId": "4a299ee2-a253-4f9f-c6de-a2b8a8ec69e4"
      },
      "outputs": [
        {
          "output_type": "stream",
          "name": "stdout",
          "text": [
            "texts:  [b\"I think this is what this movie wants us to say at the end of the movie! or Damn Australian? I still don't know, but what I know is that I really liked this movie but that couldn't be my favorite movie!<br /><br />Great story with great actors but with a terrible end... To make you cry and say 'Oh, she's so good'... Still, who made it? What really happened? Who's that guy? No answer to these questions...<br /><br />Mysterious movie with a good mark overall... I give it a 8/10, going on the 8.5!\"\n",
            " b'Most italian horror lovers seem to hate this movie since because it has no connection to the first two Demons films. And with the \"Demons III\" in the title, one would assume it would. The problem is that this film was never intended to be part of the Demons series. The distributors only a \"Demons III\" above its original title \"The Ogre\" to cash in on the other films popularity. The new American DVD release of this picture has the title \"Demons III: The Ogre\" on the box art but the film itself only says \"The Ogre\". I don\\'t know if past releases had the title \"Demons III\" on the actual film itself, but this new release just seems to be a little white lie. If you can get past the \"Demons III\" in the title, you might some enjoyment in \"The Ogre\". It starts out with a creep intro, and stays pretty creep throughout. There\\'s no gore and the film movies slowly, but I still dug it. Just don\\'t expect it to be like the other Demons films. I give \"The Ogre\" 7 out of 10. Italian fans should try it out.'\n",
            " b\"Critics need to review what they class as a quality movie. I think the critics have seen too many actions films and have succumbed to the Matrix style of films. Europa is a breath of fresh air, a film with so many layers that one viewing is not enough to understand or appreciate this outstanding film. Lars von Trier shows that old styles of filming can produce marvellous cinema and build drama and tension. The back projection effect he uses during the film arouses and enhances the characters, and the focus of the conversation they are having. Other effects he uses such as the colour and black and white in one scene much like Hitchcock and the girl with the red coat grabs attention and enhances the drama and meaning of the scene. The commentary is superb and has a hypnotic effect, again maintaining the focus on the central characters in the scene and there actions.<br /><br />I could talk about the effects more but I think you all would agree they push this film into a category of its own, and really heighten the drama of the film. A film to buy if you don't own already and one to see if you have not.<br /><br />10/10 Don't miss this artistic noir film from one of the great film directors.\"]\n",
            "\n",
            "labels:  [1 1 1]\n"
          ]
        }
      ],
      "source": [
        "BUFFER_SIZE = 10000\n",
        "BATCH_SIZE = 64\n",
        "\n",
        "train_dataset = train_dataset.shuffle(BUFFER_SIZE).batch(BATCH_SIZE).prefetch(tf.data.AUTOTUNE)\n",
        "test_dataset = test_dataset.batch(BATCH_SIZE).prefetch(tf.data.AUTOTUNE)\n",
        "\n",
        "for example, label in train_dataset.take(1):\n",
        "  print('texts: ', example.numpy()[:3])\n",
        "  print()\n",
        "  print('labels: ', label.numpy()[:3])\n"
      ]
    },
    {
      "cell_type": "markdown",
      "source": [
        "kode tersebut mengatur konfigurasi untuk pelatihan model dengan menggunakan TensorFlow. Parameter BUFFER_SIZE menentukan ukuran buffer untuk mengacak dataset pelatihan sebelum setiap epoch, sedangkan BATCH_SIZE menentukan ukuran setiap batch data yang akan digunakan dalam satu iterasi pelatihan. Selanjutnya, dataset pelatihan diacak, dibagi menjadi batch sesuai dengan BATCH_SIZE, dan di-pre-fetch untuk meningkatkan efisiensi dalam pemrosesan data. Hal yang sama dilakukan pada dataset pengujian, tetapi tanpa pengacakan karena pengacakan hanya diperlukan pada tahap pelatihan. Kemudian, dengan menggunakan loop for dan metode take(1), tiga contoh teks dan label dari dataset pelatihan dicetak. Dengan mengambil tiga contoh pertama ([:3]), potongan kode ini memberikan gambaran singkat tentang struktur dan isi dari batch pertama dalam dataset pelatihan, yang berguna untuk memahami bagaimana data disiapkan sebelum digunakan dalam pelatihan model klasifikasi sentimen IMDb.\n",
        "\n"
      ],
      "metadata": {
        "id": "j6feQ9T2ji1U"
      },
      "id": "j6feQ9T2ji1U"
    },
    {
      "cell_type": "code",
      "execution_count": null,
      "id": "66fa3ff1-6c7a-4164-9206-dc5cd8cd2ceb",
      "metadata": {
        "id": "66fa3ff1-6c7a-4164-9206-dc5cd8cd2ceb"
      },
      "outputs": [],
      "source": [
        "VOCAB_SIZE = 1000\n",
        "encoder = tf.keras.layers.TextVectorization(max_tokens=VOCAB_SIZE)\n",
        "encoder.adapt(train_dataset.map(lambda text, label: text))"
      ]
    },
    {
      "cell_type": "code",
      "execution_count": null,
      "id": "f5e13ae3-c94b-43a4-af3e-928da7cf796a",
      "metadata": {
        "colab": {
          "base_uri": "https://localhost:8080/"
        },
        "id": "f5e13ae3-c94b-43a4-af3e-928da7cf796a",
        "outputId": "aac3aaef-9e9f-4e25-8419-79b2919df374"
      },
      "outputs": [
        {
          "output_type": "execute_result",
          "data": {
            "text/plain": [
              "array(['', '[UNK]', 'the', 'and', 'a', 'of', 'to', 'is', 'in', 'it', 'i',\n",
              "       'this', 'that', 'br', 'was', 'as', 'for', 'with', 'movie', 'but'],\n",
              "      dtype='<U14')"
            ]
          },
          "metadata": {},
          "execution_count": 8
        }
      ],
      "source": [
        "vocab=np.array(encoder.get_vocabulary())\n",
        "vocab[:20]"
      ]
    },
    {
      "cell_type": "code",
      "execution_count": null,
      "id": "5a1e05c4-0fe9-495c-9271-d59ded2b2b41",
      "metadata": {
        "colab": {
          "base_uri": "https://localhost:8080/"
        },
        "id": "5a1e05c4-0fe9-495c-9271-d59ded2b2b41",
        "outputId": "532ebb7e-646e-4c0b-de79-7ec749f5ea79"
      },
      "outputs": [
        {
          "output_type": "execute_result",
          "data": {
            "text/plain": [
              "array([[ 10, 103,  11, ...,   0,   0,   0],\n",
              "       [ 88,   1, 197, ...,   0,   0,   0],\n",
              "       [  1, 341,   6, ...,   0,   0,   0]])"
            ]
          },
          "metadata": {},
          "execution_count": 9
        }
      ],
      "source": [
        "encoded_example=encoder(example)[:3].numpy()\n",
        "encoded_example"
      ]
    },
    {
      "cell_type": "code",
      "execution_count": null,
      "id": "515a93c9-bc70-4968-a61b-a77b1923227a",
      "metadata": {
        "colab": {
          "base_uri": "https://localhost:8080/"
        },
        "id": "515a93c9-bc70-4968-a61b-a77b1923227a",
        "outputId": "128e3b59-1e1d-4d56-ee3c-3afc470ee66b"
      },
      "outputs": [
        {
          "output_type": "stream",
          "name": "stdout",
          "text": [
            "Original:  b\"I think this is what this movie wants us to say at the end of the movie! or Damn Australian? I still don't know, but what I know is that I really liked this movie but that couldn't be my favorite movie!<br /><br />Great story with great actors but with a terrible end... To make you cry and say 'Oh, she's so good'... Still, who made it? What really happened? Who's that guy? No answer to these questions...<br /><br />Mysterious movie with a good mark overall... I give it a 8/10, going on the 8.5!\"\n",
            "Round-trip:  i think this is what this movie wants us to say at the end of the movie or [UNK] [UNK] i still dont know but what i know is that i really liked this movie but that couldnt be my favorite moviebr br great story with great actors but with a terrible end to make you [UNK] and say oh shes so good still who made it what really happened whos that guy no [UNK] to these [UNK] br [UNK] movie with a good mark overall i give it a [UNK] going on the [UNK]                                                                                                                                                                                                                                                                                                                                                                                                                                                                                                                                                                                                                                                                                                                                                                                                    \n",
            "\n",
            "Original:  b'Most italian horror lovers seem to hate this movie since because it has no connection to the first two Demons films. And with the \"Demons III\" in the title, one would assume it would. The problem is that this film was never intended to be part of the Demons series. The distributors only a \"Demons III\" above its original title \"The Ogre\" to cash in on the other films popularity. The new American DVD release of this picture has the title \"Demons III: The Ogre\" on the box art but the film itself only says \"The Ogre\". I don\\'t know if past releases had the title \"Demons III\" on the actual film itself, but this new release just seems to be a little white lie. If you can get past the \"Demons III\" in the title, you might some enjoyment in \"The Ogre\". It starts out with a creep intro, and stays pretty creep throughout. There\\'s no gore and the film movies slowly, but I still dug it. Just don\\'t expect it to be like the other Demons films. I give \"The Ogre\" 7 out of 10. Italian fans should try it out.'\n",
            "Round-trip:  most [UNK] horror [UNK] seem to hate this movie since because it has no [UNK] to the first two [UNK] films and with the [UNK] [UNK] in the title one would [UNK] it would the problem is that this film was never [UNK] to be part of the [UNK] series the [UNK] only a [UNK] [UNK] above its original title the [UNK] to [UNK] in on the other films [UNK] the new american dvd release of this picture has the title [UNK] [UNK] the [UNK] on the [UNK] art but the film itself only says the [UNK] i dont know if past [UNK] had the title [UNK] [UNK] on the actual film itself but this new release just seems to be a little white [UNK] if you can get past the [UNK] [UNK] in the title you might some [UNK] in the [UNK] it starts out with a [UNK] [UNK] and [UNK] pretty [UNK] throughout theres no gore and the film movies [UNK] but i still [UNK] it just dont expect it to be like the other [UNK] films i give the [UNK] [UNK] out of 10 [UNK] fans should try it out                                                                                                                                                                                                                                                                                                                                                                                                                                                                                                                                                                                                                                                                                                  \n",
            "\n",
            "Original:  b\"Critics need to review what they class as a quality movie. I think the critics have seen too many actions films and have succumbed to the Matrix style of films. Europa is a breath of fresh air, a film with so many layers that one viewing is not enough to understand or appreciate this outstanding film. Lars von Trier shows that old styles of filming can produce marvellous cinema and build drama and tension. The back projection effect he uses during the film arouses and enhances the characters, and the focus of the conversation they are having. Other effects he uses such as the colour and black and white in one scene much like Hitchcock and the girl with the red coat grabs attention and enhances the drama and meaning of the scene. The commentary is superb and has a hypnotic effect, again maintaining the focus on the central characters in the scene and there actions.<br /><br />I could talk about the effects more but I think you all would agree they push this film into a category of its own, and really heighten the drama of the film. A film to buy if you don't own already and one to see if you have not.<br /><br />10/10 Don't miss this artistic noir film from one of the great film directors.\"\n",
            "Round-trip:  [UNK] need to review what they class as a quality movie i think the [UNK] have seen too many [UNK] films and have [UNK] to the [UNK] style of films [UNK] is a [UNK] of [UNK] air a film with so many [UNK] that one viewing is not enough to understand or [UNK] this [UNK] film [UNK] [UNK] [UNK] shows that old [UNK] of [UNK] can [UNK] [UNK] cinema and [UNK] drama and [UNK] the back [UNK] effect he [UNK] during the film [UNK] and [UNK] the characters and the [UNK] of the [UNK] they are having other effects he [UNK] such as the [UNK] and black and white in one scene much like [UNK] and the girl with the red [UNK] [UNK] attention and [UNK] the drama and [UNK] of the scene the [UNK] is superb and has a [UNK] effect again [UNK] the [UNK] on the [UNK] characters in the scene and there [UNK] br i could talk about the effects more but i think you all would [UNK] they [UNK] this film into a [UNK] of its own and really [UNK] the drama of the film a film to buy if you dont own already and one to see if you have [UNK] br [UNK] dont miss this [UNK] [UNK] film from one of the great film directors                                                                                                                                                                                                                                                                                                                                                                                                                                                                                                                                                                                                                                                                      \n",
            "\n"
          ]
        }
      ],
      "source": [
        "for n in range(3):\n",
        "  print(\"Original: \", example[n].numpy())\n",
        "  print(\"Round-trip: \", \" \".join(vocab[encoded_example[n]]))\n",
        "  print()"
      ]
    },
    {
      "cell_type": "code",
      "execution_count": null,
      "id": "bb1a48c3-9d49-4315-a6c0-47a7bcd05705",
      "metadata": {
        "id": "bb1a48c3-9d49-4315-a6c0-47a7bcd05705"
      },
      "outputs": [],
      "source": [
        "model = tf.keras.Sequential([\n",
        "    encoder,\n",
        "    tf.keras.layers.Embedding(\n",
        "        input_dim=len(encoder.get_vocabulary()),\n",
        "        output_dim=64,\n",
        "        # Use masking to handle the variable sequence lengths\n",
        "        mask_zero=True),\n",
        "    tf.keras.layers.Bidirectional(tf.keras.layers.LSTM(64)),\n",
        "    tf.keras.layers.Dense(64, activation='relu'),\n",
        "    tf.keras.layers.Dense(1)\n",
        "])"
      ]
    },
    {
      "cell_type": "markdown",
      "source": [
        " kode tersebut merupakan definisi model neural network menggunakan TensorFlow Keras untuk tugas klasifikasi sentimen pada dataset IMDb. Model ini memanfaatkan layer embedding dengan pre-trained text encoder, diikuti oleh layer Embedding Keras untuk representasi vektor 64 dimensi. Selanjutnya, model memiliki layer Bidirectional LSTM untuk pemahaman konteks dua arah, layer Dense dengan aktivasi ReLU, dan layer Dense terakhir tanpa fungsi aktivasi untuk output klasifikasi biner. Keseluruhannya, model ini dirancang untuk mengonversi teks menjadi representasi vektor dan memahami konteks melalui LSTM, untuk menghasilkan prediksi sentimen positif atau negatif."
      ],
      "metadata": {
        "id": "bF6vTDNSj2Ad"
      },
      "id": "bF6vTDNSj2Ad"
    },
    {
      "cell_type": "code",
      "execution_count": null,
      "id": "71900f32-2c1c-4fed-9385-80627c7d8266",
      "metadata": {
        "colab": {
          "base_uri": "https://localhost:8080/"
        },
        "id": "71900f32-2c1c-4fed-9385-80627c7d8266",
        "outputId": "6cd49939-0692-457d-c94a-b8e48af88033"
      },
      "outputs": [
        {
          "output_type": "stream",
          "name": "stdout",
          "text": [
            "[False, True, True, True, True]\n"
          ]
        }
      ],
      "source": [
        "print([layer.supports_masking for layer in model.layers])"
      ]
    },
    {
      "cell_type": "code",
      "execution_count": null,
      "id": "d639155f-33f2-47c5-92cc-d53949b6e0ad",
      "metadata": {
        "colab": {
          "base_uri": "https://localhost:8080/"
        },
        "id": "d639155f-33f2-47c5-92cc-d53949b6e0ad",
        "outputId": "b758558f-e650-4a54-fd21-cbf1cd4b14c1"
      },
      "outputs": [
        {
          "output_type": "stream",
          "name": "stdout",
          "text": [
            "1/1 [==============================] - 9s 9s/step\n",
            "[-0.01358437]\n"
          ]
        }
      ],
      "source": [
        "# predict on a sample text without padding.\n",
        "\n",
        "sample_text = ('The movie was cool. The animation and the graphics '\n",
        "               'were out of this world. I would recommend this movie.')\n",
        "predictions = model.predict(np.array([sample_text]))\n",
        "print(predictions[0])"
      ]
    },
    {
      "cell_type": "code",
      "execution_count": null,
      "id": "15ff6c71-38e1-49ef-8bca-d54704fdc6b7",
      "metadata": {
        "colab": {
          "base_uri": "https://localhost:8080/"
        },
        "id": "15ff6c71-38e1-49ef-8bca-d54704fdc6b7",
        "outputId": "66167e08-db53-4e30-d43a-5ad0dc8c5d41"
      },
      "outputs": [
        {
          "output_type": "stream",
          "name": "stdout",
          "text": [
            "1/1 [==============================] - 0s 72ms/step\n",
            "[-0.01358437]\n"
          ]
        }
      ],
      "source": [
        "# predict on a sample text with padding\n",
        "padding = \"the \" * 2000\n",
        "predictions = model.predict(np.array([sample_text, padding]))\n",
        "print(predictions[0])"
      ]
    },
    {
      "cell_type": "code",
      "execution_count": null,
      "id": "f0ff1165-1c6a-4f89-9bcb-742a692d5e4b",
      "metadata": {
        "id": "f0ff1165-1c6a-4f89-9bcb-742a692d5e4b"
      },
      "outputs": [],
      "source": [
        "model.compile(loss=tf.keras.losses.BinaryCrossentropy(from_logits=True),\n",
        "              optimizer=tf.keras.optimizers.Adam(1e-4),\n",
        "              metrics=['accuracy'])"
      ]
    },
    {
      "cell_type": "code",
      "execution_count": null,
      "id": "2cb8ae49-4a3a-43d1-a886-fc05f991d260",
      "metadata": {
        "colab": {
          "base_uri": "https://localhost:8080/"
        },
        "id": "2cb8ae49-4a3a-43d1-a886-fc05f991d260",
        "outputId": "0ae91fad-7aea-4b12-cf0c-3fef57d95073"
      },
      "outputs": [
        {
          "output_type": "stream",
          "name": "stdout",
          "text": [
            "Epoch 1/10\n",
            "391/391 [==============================] - 52s 106ms/step - loss: 0.6533 - accuracy: 0.5569 - val_loss: 0.6371 - val_accuracy: 0.6833\n",
            "Epoch 2/10\n",
            "391/391 [==============================] - 27s 69ms/step - loss: 0.4639 - accuracy: 0.7743 - val_loss: 0.3903 - val_accuracy: 0.8323\n",
            "Epoch 3/10\n",
            "391/391 [==============================] - 27s 69ms/step - loss: 0.3552 - accuracy: 0.8404 - val_loss: 0.3537 - val_accuracy: 0.8438\n",
            "Epoch 4/10\n",
            "391/391 [==============================] - 27s 69ms/step - loss: 0.3280 - accuracy: 0.8568 - val_loss: 0.3306 - val_accuracy: 0.8573\n",
            "Epoch 5/10\n",
            "391/391 [==============================] - 26s 67ms/step - loss: 0.3163 - accuracy: 0.8634 - val_loss: 0.3395 - val_accuracy: 0.8547\n",
            "Epoch 6/10\n",
            "391/391 [==============================] - 27s 68ms/step - loss: 0.3101 - accuracy: 0.8670 - val_loss: 0.3235 - val_accuracy: 0.8589\n",
            "Epoch 7/10\n",
            "391/391 [==============================] - 26s 66ms/step - loss: 0.3072 - accuracy: 0.8684 - val_loss: 0.3247 - val_accuracy: 0.8562\n",
            "Epoch 8/10\n",
            "391/391 [==============================] - 27s 67ms/step - loss: 0.3020 - accuracy: 0.8690 - val_loss: 0.3242 - val_accuracy: 0.8568\n",
            "Epoch 9/10\n",
            "391/391 [==============================] - 27s 68ms/step - loss: 0.3026 - accuracy: 0.8694 - val_loss: 0.3189 - val_accuracy: 0.8594\n",
            "Epoch 10/10\n",
            "391/391 [==============================] - 26s 67ms/step - loss: 0.2976 - accuracy: 0.8719 - val_loss: 0.3233 - val_accuracy: 0.8620\n"
          ]
        }
      ],
      "source": [
        "history = model.fit(train_dataset, epochs=10, validation_data=test_dataset, validation_steps=30)"
      ]
    },
    {
      "cell_type": "code",
      "execution_count": null,
      "id": "b498b123-058c-4a73-a45d-4e6b52c51f2f",
      "metadata": {
        "colab": {
          "base_uri": "https://localhost:8080/"
        },
        "id": "b498b123-058c-4a73-a45d-4e6b52c51f2f",
        "outputId": "0019c568-0705-44b0-c21d-2343615c6866"
      },
      "outputs": [
        {
          "output_type": "stream",
          "name": "stdout",
          "text": [
            "391/391 [==============================] - 13s 34ms/step - loss: 0.3196 - accuracy: 0.8624\n",
            "Test Loss: 0.3195785880088806\n",
            "Test Accuracy: 0.8624399900436401\n"
          ]
        }
      ],
      "source": [
        "test_loss, test_acc = model.evaluate(test_dataset)\n",
        "\n",
        "print('Test Loss:', test_loss)\n",
        "print('Test Accuracy:', test_acc)"
      ]
    },
    {
      "cell_type": "code",
      "execution_count": null,
      "id": "1820cecd-d4ab-44d4-a8d3-d85c389713dc",
      "metadata": {
        "colab": {
          "base_uri": "https://localhost:8080/",
          "height": 519
        },
        "id": "1820cecd-d4ab-44d4-a8d3-d85c389713dc",
        "outputId": "2a505135-eae7-4e95-c2bc-0cc0e788685f"
      },
      "outputs": [
        {
          "output_type": "execute_result",
          "data": {
            "text/plain": [
              "(0.0, 0.6710665747523308)"
            ]
          },
          "metadata": {},
          "execution_count": 19
        },
        {
          "output_type": "display_data",
          "data": {
            "text/plain": [
              "<Figure size 1600x800 with 2 Axes>"
            ],
            "image/png": "[encoded data removed]"
          },
          "metadata": {}
        }
      ],
      "source": [
        "plt.figure(figsize=(16, 8))\n",
        "plt.subplot(1, 2, 1)\n",
        "plot_graphs(history, 'accuracy')\n",
        "plt.ylim(None, 1)\n",
        "plt.subplot(1, 2, 2)\n",
        "plot_graphs(history, 'loss')\n",
        "plt.ylim(0, None)"
      ]
    },
    {
      "cell_type": "markdown",
      "source": [
        "kode tersebut menggunakan Matplotlib untuk membuat grafik evaluasi performa model. Dua subplot disusun dalam satu baris dan dua kolom pada suatu gambar. Subplot pertama (subplot(1, 2, 1)) menampilkan grafik akurasi ('accuracy') dari riwayat pelatihan (history), sementara subplot kedua (subplot(1, 2, 2)) menampilkan grafik kerugian ('loss'). Fungsi plot_graphs digunakan untuk menggambar grafik, yang mungkin telah didefinisikan sebelumnya dan tidak ditampilkan dalam potongan kode ini. Pengaturan plt.ylim digunakan untuk menetapkan batas sumbu y pada masing-masing subplot, sehingga akurasi dibatasi antara 0 dan 1, sementara kerugian dimulai dari 0. Gambar ini memberikan visualisasi visual tentang bagaimana akurasi dan kerugian model berubah sepanjang waktu selama pelatihan. Dengan ukuran gambar yang diatur sebesar (16, 8), grafik ini dimaksudkan untuk memberikan tampilan yang jelas dan mudah dipahami."
      ],
      "metadata": {
        "id": "QmZsp4uyj93M"
      },
      "id": "QmZsp4uyj93M"
    },
    {
      "cell_type": "code",
      "execution_count": null,
      "id": "9bd630fd-ccc1-4bee-b66d-300ea2643f07",
      "metadata": {
        "colab": {
          "base_uri": "https://localhost:8080/"
        },
        "id": "9bd630fd-ccc1-4bee-b66d-300ea2643f07",
        "outputId": "07af68bc-d80e-4df0-f45c-980508782c47"
      },
      "outputs": [
        {
          "output_type": "stream",
          "name": "stdout",
          "text": [
            "1/1 [==============================] - 2s 2s/step\n"
          ]
        }
      ],
      "source": [
        "sample_text = ('The movie was cool. The animation and the graphics ' 'were out of this world. I would recommend this movie.')\n",
        "predictions = model.predict(np.array([sample_text]))"
      ]
    },
    {
      "cell_type": "code",
      "execution_count": null,
      "id": "a278ef1d-9127-4f88-a659-00dbeee3e5eb",
      "metadata": {
        "id": "a278ef1d-9127-4f88-a659-00dbeee3e5eb"
      },
      "outputs": [],
      "source": [
        "model = tf.keras.Sequential([\n",
        "    encoder,\n",
        "    tf.keras.layers.Embedding(len(encoder.get_vocabulary()), 64, mask_zero=True),\n",
        "    tf.keras.layers.Bidirectional(tf.keras.layers.LSTM(64, return_sequences=True)),\n",
        "    tf.keras.layers.Bidirectional(tf.keras.layers.LSTM(32)),\n",
        "    tf.keras.layers.Dense(64, activation='relu'),\n",
        "    tf.keras.layers.Dropout(0.5),\n",
        "    tf.keras.layers.Dense(1)\n",
        "])"
      ]
    },
    {
      "cell_type": "code",
      "execution_count": null,
      "id": "5e0dfd8e-0d03-4b5d-8fae-4dabad8b82e8",
      "metadata": {
        "id": "5e0dfd8e-0d03-4b5d-8fae-4dabad8b82e8"
      },
      "outputs": [],
      "source": [
        "model.compile(loss=tf.keras.losses.BinaryCrossentropy(from_logits=True),\n",
        "optimizer=tf.keras.optimizers.Adam(1e-4),\n",
        "metrics=['accuracy'])"
      ]
    },
    {
      "cell_type": "code",
      "execution_count": null,
      "id": "619d3177-818a-4669-b76d-9b368047b299",
      "metadata": {
        "colab": {
          "base_uri": "https://localhost:8080/"
        },
        "id": "619d3177-818a-4669-b76d-9b368047b299",
        "outputId": "e582ee48-038b-4c02-894d-41c07039adb4"
      },
      "outputs": [
        {
          "output_type": "stream",
          "name": "stdout",
          "text": [
            "Epoch 1/10\n",
            "391/391 [==============================] - 83s 162ms/step - loss: 0.6463 - accuracy: 0.5562 - val_loss: 0.4843 - val_accuracy: 0.7521\n",
            "Epoch 2/10\n",
            "391/391 [==============================] - 49s 126ms/step - loss: 0.4113 - accuracy: 0.8220 - val_loss: 0.3793 - val_accuracy: 0.8438\n",
            "Epoch 3/10\n",
            "391/391 [==============================] - 53s 135ms/step - loss: 0.3530 - accuracy: 0.8514 - val_loss: 0.3424 - val_accuracy: 0.8562\n",
            "Epoch 4/10\n",
            "391/391 [==============================] - 49s 125ms/step - loss: 0.3312 - accuracy: 0.8601 - val_loss: 0.3285 - val_accuracy: 0.8495\n",
            "Epoch 5/10\n",
            "391/391 [==============================] - 49s 124ms/step - loss: 0.3163 - accuracy: 0.8655 - val_loss: 0.3332 - val_accuracy: 0.8568\n",
            "Epoch 6/10\n",
            "391/391 [==============================] - 49s 125ms/step - loss: 0.3088 - accuracy: 0.8696 - val_loss: 0.3179 - val_accuracy: 0.8562\n",
            "Epoch 7/10\n",
            "391/391 [==============================] - 49s 124ms/step - loss: 0.3064 - accuracy: 0.8701 - val_loss: 0.3191 - val_accuracy: 0.8583\n",
            "Epoch 8/10\n",
            "391/391 [==============================] - 49s 126ms/step - loss: 0.3036 - accuracy: 0.8696 - val_loss: 0.3243 - val_accuracy: 0.8484\n",
            "Epoch 9/10\n",
            "391/391 [==============================] - 50s 128ms/step - loss: 0.3091 - accuracy: 0.8670 - val_loss: 0.3347 - val_accuracy: 0.8542\n",
            "Epoch 10/10\n",
            "391/391 [==============================] - 50s 129ms/step - loss: 0.2995 - accuracy: 0.8722 - val_loss: 0.3330 - val_accuracy: 0.8620\n"
          ]
        }
      ],
      "source": [
        "history = model.fit(train_dataset, epochs=10,\n",
        "validation_data=test_dataset,\n",
        "validation_steps=30)"
      ]
    },
    {
      "cell_type": "code",
      "execution_count": null,
      "id": "35dcfa90-30df-4b88-98ec-99b9735fc513",
      "metadata": {
        "colab": {
          "base_uri": "https://localhost:8080/"
        },
        "id": "35dcfa90-30df-4b88-98ec-99b9735fc513",
        "outputId": "a20c4d7e-ae4a-4c39-847d-ea324fc09339"
      },
      "outputs": [
        {
          "output_type": "stream",
          "name": "stdout",
          "text": [
            "391/391 [==============================] - 21s 53ms/step - loss: 0.3325 - accuracy: 0.8606\n",
            "Test Loss: 0.33247238397598267\n",
            "Test Accuracy: 0.8606399893760681\n"
          ]
        }
      ],
      "source": [
        "test_loss, test_acc = model.evaluate(test_dataset)\n",
        "\n",
        "print('Test Loss:', test_loss)\n",
        "print('Test Accuracy:', test_acc)"
      ]
    },
    {
      "cell_type": "code",
      "execution_count": null,
      "id": "da84ba3b-1772-4e2c-ac76-cbb1eb6d2e5c",
      "metadata": {
        "colab": {
          "base_uri": "https://localhost:8080/"
        },
        "id": "da84ba3b-1772-4e2c-ac76-cbb1eb6d2e5c",
        "outputId": "5e4eae5e-0ab2-4da8-a5ad-96c1e38d6af3"
      },
      "outputs": [
        {
          "output_type": "stream",
          "name": "stdout",
          "text": [
            "1/1 [==============================] - 6s 6s/step\n",
            "[[-1.9567937]]\n"
          ]
        }
      ],
      "source": [
        "# predict on a sample text without padding.\n",
        "\n",
        "sample_text = ('The movie was not good. The animation and the graphics ' 'were terrible. I would not recommend this movie.')\n",
        "predictions = model.predict(np.array([sample_text]))\n",
        "print(predictions)"
      ]
    },
    {
      "cell_type": "code",
      "execution_count": null,
      "id": "dea4b90d-4b59-4b00-ab34-c51fa8588cbd",
      "metadata": {
        "colab": {
          "base_uri": "https://localhost:8080/",
          "height": 386
        },
        "id": "dea4b90d-4b59-4b00-ab34-c51fa8588cbd",
        "outputId": "7c2f9aab-f75a-4e5e-b6ab-a12ce63ffd26"
      },
      "outputs": [
        {
          "output_type": "display_data",
          "data": {
            "text/plain": [
              "<Figure size 1600x600 with 2 Axes>"
            ],
            "image/png": "[encoded data removed]"
          },
          "metadata": {}
        }
      ],
      "source": [
        "plt.figure(figsize=(16, 6))\n",
        "plt.subplot(1, 2, 1)\n",
        "plot_graphs(history, 'accuracy')\n",
        "plt.subplot(1, 2, 2)\n",
        "plot_graphs(history, 'loss')"
      ]
    },
    {
      "cell_type": "markdown",
      "source": [
        "kode tersebut menggunakan Matplotlib untuk membuat gambar dengan dua subplot, yang disusun dalam satu baris dan dua kolom pada suatu gambar. Subplot pertama (subplot(1, 2, 1)) menampilkan grafik akurasi ('accuracy') dari riwayat pelatihan (history), sementara subplot kedua (subplot(1, 2, 2)) menampilkan grafik kerugian ('loss'). Fungsi plot_graphs digunakan untuk menggambar grafik, yang mungkin telah didefinisikan sebelumnya dan tidak ditampilkan dalam potongan kode ini. Dengan ukuran gambar yang diatur sebesar (16, 6), grafik ini dimaksudkan untuk memberikan tampilan yang luas dan mudah dipahami terkait perubahan akurasi dan kerugian model selama pelatihan. Penggunaan subplot memungkinkan pembandingan langsung antara metrik akurasi dan kerugian dalam satu tampilan."
      ],
      "metadata": {
        "id": "H6CC59Y9kPws"
      },
      "id": "H6CC59Y9kPws"
    },
    {
      "cell_type": "markdown",
      "id": "b4100066-c220-461f-98b7-b1e24252f9da",
      "metadata": {
        "id": "b4100066-c220-461f-98b7-b1e24252f9da"
      },
      "source": [
        "## PRAKTIKUM 2"
      ]
    },
    {
      "cell_type": "code",
      "execution_count": null,
      "id": "7caea1dc-ca8a-4e36-b015-f650ca613312",
      "metadata": {
        "id": "7caea1dc-ca8a-4e36-b015-f650ca613312"
      },
      "outputs": [],
      "source": [
        "import tensorflow as tf\n",
        "import numpy as np\n",
        "import os\n",
        "import time"
      ]
    },
    {
      "cell_type": "code",
      "source": [
        "path_to_file=tf.keras.utils.get_file('shakespeare.txt','https://storage.googleapis.com/download.tensorflow.org/data/shakespeare.txt')"
      ],
      "metadata": {
        "colab": {
          "base_uri": "https://localhost:8080/"
        },
        "id": "jNoUhLKKgbGc",
        "outputId": "6ad20f84-3fab-4b55-c301-9f77754d97c9"
      },
      "id": "jNoUhLKKgbGc",
      "execution_count": null,
      "outputs": [
        {
          "output_type": "stream",
          "name": "stdout",
          "text": [
            "Downloading data from https://storage.googleapis.com/download.tensorflow.org/data/shakespeare.txt\n",
            "1115394/1115394 [==============================] - 0s 0us/step\n"
          ]
        }
      ]
    },
    {
      "cell_type": "code",
      "source": [
        "# Read, then decode for py2 compat.\n",
        "text = open(path_to_file, 'rb').read().decode(encoding='utf-8')\n",
        "# length of text is the number of characters in it\n",
        "print(f'Length of text: {len(text)} characters')"
      ],
      "metadata": {
        "colab": {
          "base_uri": "https://localhost:8080/"
        },
        "id": "mqd2LNJ6gdFL",
        "outputId": "8d284077-30e2-47ab-93cd-e7da2723c455"
      },
      "id": "mqd2LNJ6gdFL",
      "execution_count": null,
      "outputs": [
        {
          "output_type": "stream",
          "name": "stdout",
          "text": [
            "Length of text: 1115394 characters\n"
          ]
        }
      ]
    },
    {
      "cell_type": "code",
      "source": [
        "# The unique characters in the file\n",
        "vocab = sorted(set(text))\n",
        "print(f'{len(vocab)} unique characters')"
      ],
      "metadata": {
        "colab": {
          "base_uri": "https://localhost:8080/"
        },
        "id": "OLJH-CfxghrQ",
        "outputId": "6557dc27-dfe8-46b7-d0fd-4d6917fffcfa"
      },
      "id": "OLJH-CfxghrQ",
      "execution_count": null,
      "outputs": [
        {
          "output_type": "stream",
          "name": "stdout",
          "text": [
            "65 unique characters\n"
          ]
        }
      ]
    },
    {
      "cell_type": "code",
      "source": [
        "example_texts=['abcdefg','xyz']\n",
        "chars=tf.strings.unicode_split(example_texts,input_encoding='UTF-8')\n",
        "chars"
      ],
      "metadata": {
        "colab": {
          "base_uri": "https://localhost:8080/"
        },
        "id": "HiwJSMwSgks3",
        "outputId": "4e8b2bc9-938d-4247-f459-43be6ef6208e"
      },
      "id": "HiwJSMwSgks3",
      "execution_count": null,
      "outputs": [
        {
          "output_type": "execute_result",
          "data": {
            "text/plain": [
              "<tf.RaggedTensor [[b'a', b'b', b'c', b'd', b'e', b'f', b'g'], [b'x', b'y', b'z']]>"
            ]
          },
          "metadata": {},
          "execution_count": 6
        }
      ]
    },
    {
      "cell_type": "code",
      "source": [
        "ids_from_chars=tf.keras.layers.StringLookup(vocabulary=list(vocab),mask_token=None)\n",
        "ids=ids_from_chars(chars)\n",
        "ids"
      ],
      "metadata": {
        "colab": {
          "base_uri": "https://localhost:8080/"
        },
        "id": "ZN83FA0xgqoH",
        "outputId": "04a84015-4761-445b-dd17-358444ca0e33"
      },
      "id": "ZN83FA0xgqoH",
      "execution_count": null,
      "outputs": [
        {
          "output_type": "execute_result",
          "data": {
            "text/plain": [
              "<tf.RaggedTensor [[40, 41, 42, 43, 44, 45, 46], [63, 64, 65]]>"
            ]
          },
          "metadata": {},
          "execution_count": 7
        }
      ]
    },
    {
      "cell_type": "code",
      "source": [
        "chars_from_ids = tf.keras.layers.StringLookup(\n",
        "    vocabulary=ids_from_chars.get_vocabulary(), invert=True, mask_token=None)"
      ],
      "metadata": {
        "id": "51m7Mhp1hJVq"
      },
      "id": "51m7Mhp1hJVq",
      "execution_count": null,
      "outputs": []
    },
    {
      "cell_type": "code",
      "source": [
        "chars=chars_from_ids(ids)\n",
        "chars"
      ],
      "metadata": {
        "colab": {
          "base_uri": "https://localhost:8080/"
        },
        "id": "DK-A6zRFhLiy",
        "outputId": "f5eaab15-e567-4d1b-f9a3-d84bc82b76b3"
      },
      "id": "DK-A6zRFhLiy",
      "execution_count": null,
      "outputs": [
        {
          "output_type": "execute_result",
          "data": {
            "text/plain": [
              "<tf.RaggedTensor [[b'a', b'b', b'c', b'd', b'e', b'f', b'g'], [b'x', b'y', b'z']]>"
            ]
          },
          "metadata": {},
          "execution_count": 9
        }
      ]
    },
    {
      "cell_type": "code",
      "source": [
        "tf.strings.reduce_join(chars,axis=-1).numpy()"
      ],
      "metadata": {
        "colab": {
          "base_uri": "https://localhost:8080/"
        },
        "id": "ucbxtHmEhPjj",
        "outputId": "0e27bf46-a9a2-42ea-ada3-15f6cadd8c9c"
      },
      "id": "ucbxtHmEhPjj",
      "execution_count": null,
      "outputs": [
        {
          "output_type": "execute_result",
          "data": {
            "text/plain": [
              "array([b'abcdefg', b'xyz'], dtype=object)"
            ]
          },
          "metadata": {},
          "execution_count": 10
        }
      ]
    },
    {
      "cell_type": "code",
      "source": [
        "def text_from_ids(ids):\n",
        "    return tf.strings.reduce_join(chars_from_ids(ids),axis=-1)"
      ],
      "metadata": {
        "id": "hcRjyJEghR5S"
      },
      "id": "hcRjyJEghR5S",
      "execution_count": null,
      "outputs": []
    },
    {
      "cell_type": "code",
      "source": [
        "all_ids=ids_from_chars(tf.strings.unicode_split(text,'UTF-8'))\n",
        "all_ids"
      ],
      "metadata": {
        "colab": {
          "base_uri": "https://localhost:8080/"
        },
        "id": "FPY1Aoy8hVw2",
        "outputId": "66047bd3-7312-46f1-d26e-a8d9ccd93e7e"
      },
      "id": "FPY1Aoy8hVw2",
      "execution_count": null,
      "outputs": [
        {
          "output_type": "execute_result",
          "data": {
            "text/plain": [
              "<tf.Tensor: shape=(1115394,), dtype=int64, numpy=array([19, 48, 57, ..., 46,  9,  1])>"
            ]
          },
          "metadata": {},
          "execution_count": 12
        }
      ]
    },
    {
      "cell_type": "code",
      "source": [
        "ids_dataset=tf.data.Dataset.from_tensor_slices(all_ids)"
      ],
      "metadata": {
        "id": "0arxCETvhb7K"
      },
      "id": "0arxCETvhb7K",
      "execution_count": null,
      "outputs": []
    },
    {
      "cell_type": "code",
      "source": [
        "for ids in ids_dataset.take(10):\n",
        "    print(chars_from_ids(ids).numpy().decode('utf-8'))"
      ],
      "metadata": {
        "colab": {
          "base_uri": "https://localhost:8080/"
        },
        "id": "KtwjeqmMheKW",
        "outputId": "66c7e378-92b5-43a7-e948-535c237dd3f6"
      },
      "id": "KtwjeqmMheKW",
      "execution_count": null,
      "outputs": [
        {
          "output_type": "stream",
          "name": "stdout",
          "text": [
            "F\n",
            "i\n",
            "r\n",
            "s\n",
            "t\n",
            " \n",
            "C\n",
            "i\n",
            "t\n",
            "i\n"
          ]
        }
      ]
    },
    {
      "cell_type": "markdown",
      "source": [
        " kode tersebut menggunakan metode take(10) untuk mengambil sepuluh contoh dari dataset dengan nama ids_dataset. Dalam setiap iterasi loop for, kode mencetak hasil dekoding dari setiap ID dalam dataset menggunakan fungsi chars_from_ids(ids).numpy().decode('utf-8'). Fungsi ini berfungsi untuk mengonversi ID menjadi karakter dan kemudian mengonversi tensor numpy ke string UTF-8. Dengan demikian, potongan kode ini memberikan gambaran singkat dari sepuluh contoh karakter yang dihasilkan dari dataset ID, membantu untuk memahami struktur dan isi dari dataset tersebut."
      ],
      "metadata": {
        "id": "UEZ_biBfkXeB"
      },
      "id": "UEZ_biBfkXeB"
    },
    {
      "cell_type": "code",
      "source": [
        "seq_length=100"
      ],
      "metadata": {
        "id": "sGvkurVXhjfh"
      },
      "id": "sGvkurVXhjfh",
      "execution_count": null,
      "outputs": []
    },
    {
      "cell_type": "code",
      "source": [
        "sequences = ids_dataset.batch(seq_length+1, drop_remainder=True)\n",
        "\n",
        "for seq in sequences.take(1):\n",
        "  print(chars_from_ids(seq))"
      ],
      "metadata": {
        "colab": {
          "base_uri": "https://localhost:8080/"
        },
        "id": "xDfOAZFVhl_i",
        "outputId": "c284f867-0287-45d2-dcd6-9dd08a61c408"
      },
      "id": "xDfOAZFVhl_i",
      "execution_count": null,
      "outputs": [
        {
          "output_type": "stream",
          "name": "stdout",
          "text": [
            "tf.Tensor(\n",
            "[b'F' b'i' b'r' b's' b't' b' ' b'C' b'i' b't' b'i' b'z' b'e' b'n' b':'\n",
            " b'\\n' b'B' b'e' b'f' b'o' b'r' b'e' b' ' b'w' b'e' b' ' b'p' b'r' b'o'\n",
            " b'c' b'e' b'e' b'd' b' ' b'a' b'n' b'y' b' ' b'f' b'u' b'r' b't' b'h'\n",
            " b'e' b'r' b',' b' ' b'h' b'e' b'a' b'r' b' ' b'm' b'e' b' ' b's' b'p'\n",
            " b'e' b'a' b'k' b'.' b'\\n' b'\\n' b'A' b'l' b'l' b':' b'\\n' b'S' b'p' b'e'\n",
            " b'a' b'k' b',' b' ' b's' b'p' b'e' b'a' b'k' b'.' b'\\n' b'\\n' b'F' b'i'\n",
            " b'r' b's' b't' b' ' b'C' b'i' b't' b'i' b'z' b'e' b'n' b':' b'\\n' b'Y'\n",
            " b'o' b'u' b' '], shape=(101,), dtype=string)\n"
          ]
        }
      ]
    },
    {
      "cell_type": "markdown",
      "source": [
        "Potongan kode tersebut mengambil dataset ids_dataset dan membentuk urutan (sequences) dari ID dengan menggunakan metode batch(seq_length+1, drop_remainder=True). Pada tahap ini, ID digabungkan menjadi urutan dengan panjang seq_length + 1 (menambahkan 1 untuk menyertakan target berikutnya), dan jika panjangnya tidak sesuai, bagian sisa akan dihapus (drop_remainder=True).\n",
        "\n",
        "Dalam loop for berikutnya, kode menggunakan fungsi chars_from_ids(seq) untuk mengonversi setiap ID dalam urutan tersebut menjadi karakter dan mencetak hasilnya. Ini memberikan wawasan tentang bagaimana dataset diorganisir dalam urutan karakter, yang berguna untuk memahami struktur dan pola dari data yang akan digunakan dalam pelatihan model. Potongan kode ini membantu melihat bagaimana teks diolah dan dipecah menjadi urutan yang sesuai dengan panjang yang diinginkan."
      ],
      "metadata": {
        "id": "u5V36s7MkazB"
      },
      "id": "u5V36s7MkazB"
    },
    {
      "cell_type": "code",
      "source": [
        "for seq in sequences.take(5):\n",
        "    print(text_from_ids(seq).numpy())"
      ],
      "metadata": {
        "colab": {
          "base_uri": "https://localhost:8080/"
        },
        "id": "5IoH2xgKhn18",
        "outputId": "985cb0f5-df7c-4b8d-b96e-5df5118a669d"
      },
      "id": "5IoH2xgKhn18",
      "execution_count": null,
      "outputs": [
        {
          "output_type": "stream",
          "name": "stdout",
          "text": [
            "b'First Citizen:\\nBefore we proceed any further, hear me speak.\\n\\nAll:\\nSpeak, speak.\\n\\nFirst Citizen:\\nYou '\n",
            "b'are all resolved rather to die than to famish?\\n\\nAll:\\nResolved. resolved.\\n\\nFirst Citizen:\\nFirst, you k'\n",
            "b\"now Caius Marcius is chief enemy to the people.\\n\\nAll:\\nWe know't, we know't.\\n\\nFirst Citizen:\\nLet us ki\"\n",
            "b\"ll him, and we'll have corn at our own price.\\nIs't a verdict?\\n\\nAll:\\nNo more talking on't; let it be d\"\n",
            "b'one: away, away!\\n\\nSecond Citizen:\\nOne word, good citizens.\\n\\nFirst Citizen:\\nWe are accounted poor citi'\n"
          ]
        }
      ]
    },
    {
      "cell_type": "code",
      "source": [
        "def split_input_target(sequence):\n",
        "  input_text = sequence[:-1]\n",
        "  target_text = sequence[1:]\n",
        "  return input_text, target_text"
      ],
      "metadata": {
        "id": "qfKPok7whqwF"
      },
      "id": "qfKPok7whqwF",
      "execution_count": null,
      "outputs": []
    },
    {
      "cell_type": "code",
      "source": [
        "split_input_target(list(\"Tensorflow\"))\n",
        "dataset = sequences.map(split_input_target)"
      ],
      "metadata": {
        "id": "hQjlEf8ohynA"
      },
      "id": "hQjlEf8ohynA",
      "execution_count": null,
      "outputs": []
    },
    {
      "cell_type": "code",
      "source": [
        "for input_example, target_example in dataset.take(1):\n",
        "  print(\"Input :\", text_from_ids(input_example).numpy())\n",
        "  print(\"Target:\", text_from_ids(target_example).numpy())"
      ],
      "metadata": {
        "colab": {
          "base_uri": "https://localhost:8080/"
        },
        "id": "ZxIgGeXCh419",
        "outputId": "1ae49b02-05e4-495d-8dff-8ecaa08f00a0"
      },
      "id": "ZxIgGeXCh419",
      "execution_count": null,
      "outputs": [
        {
          "output_type": "stream",
          "name": "stdout",
          "text": [
            "Input : b'First Citizen:\\nBefore we proceed any further, hear me speak.\\n\\nAll:\\nSpeak, speak.\\n\\nFirst Citizen:\\nYou'\n",
            "Target: b'irst Citizen:\\nBefore we proceed any further, hear me speak.\\n\\nAll:\\nSpeak, speak.\\n\\nFirst Citizen:\\nYou '\n"
          ]
        }
      ]
    },
    {
      "cell_type": "code",
      "source": [
        "# Batch size\n",
        "BATCH_SIZE = 64\n",
        "\n",
        "# Buffer size to shuffle the dataset\n",
        "# (TF data is designed to work with possibly infinite sequences,\n",
        "# so it doesn't attempt to shuffle the entire sequence in memory. Instead,\n",
        "# it maintains a buffer in which it shuffles elements).\n",
        "BUFFER_SIZE = 10000\n",
        "\n",
        "dataset = (\n",
        "    dataset\n",
        "    .shuffle(BUFFER_SIZE)\n",
        "    .batch(BATCH_SIZE, drop_remainder=True)\n",
        "    .prefetch(tf.data.experimental.AUTOTUNE))\n",
        "\n",
        "dataset"
      ],
      "metadata": {
        "colab": {
          "base_uri": "https://localhost:8080/"
        },
        "id": "yWqpwynFh_oP",
        "outputId": "5ec57dca-b394-45c1-cd4b-186a01c2e7b0"
      },
      "id": "yWqpwynFh_oP",
      "execution_count": null,
      "outputs": [
        {
          "output_type": "execute_result",
          "data": {
            "text/plain": [
              "<_PrefetchDataset element_spec=(TensorSpec(shape=(64, 100), dtype=tf.int64, name=None), TensorSpec(shape=(64, 100), dtype=tf.int64, name=None))>"
            ]
          },
          "metadata": {},
          "execution_count": 23
        }
      ]
    },
    {
      "cell_type": "code",
      "source": [
        "# Length of the vocabulary in StringLookup Layer\n",
        "vocab_size = len(ids_from_chars.get_vocabulary())\n",
        "\n",
        "# The embedding dimension\n",
        "embedding_dim = 256\n",
        "\n",
        "# Number of RNN units\n",
        "rnn_units = 1024"
      ],
      "metadata": {
        "id": "Ygt0MtF-iDk6"
      },
      "id": "Ygt0MtF-iDk6",
      "execution_count": null,
      "outputs": []
    },
    {
      "cell_type": "code",
      "source": [
        "class MyModel(tf.keras.Model):\n",
        "  def __init__(self, vocab_size, embedding_dim, rnn_units):\n",
        "    super().__init__(self)\n",
        "    self.embedding = tf.keras.layers.Embedding(vocab_size, embedding_dim)\n",
        "    self.gru = tf.keras.layers.GRU(rnn_units,\n",
        "                                   return_sequences=True,\n",
        "                                   return_state=True)\n",
        "    self.dense = tf.keras.layers.Dense(vocab_size)\n",
        "\n",
        "  def call(self, inputs, states=None, return_state=False, training=False):\n",
        "    x = inputs\n",
        "    x = self.embedding(x, training=training)\n",
        "    if states is None:\n",
        "      states = self.gru.get_initial_state(x)\n",
        "    x, states = self.gru(x, initial_state=states, training=training)\n",
        "    x = self.dense(x, training=training)\n",
        "\n",
        "    if return_state:\n",
        "      return x, states\n",
        "    else:\n",
        "      return x"
      ],
      "metadata": {
        "id": "Ibertw-6iFOX"
      },
      "id": "Ibertw-6iFOX",
      "execution_count": null,
      "outputs": []
    },
    {
      "cell_type": "code",
      "source": [
        "model = MyModel(\n",
        "    vocab_size=vocab_size,\n",
        "    embedding_dim=embedding_dim,\n",
        "    rnn_units=rnn_units)"
      ],
      "metadata": {
        "id": "CApADB_IiG18"
      },
      "id": "CApADB_IiG18",
      "execution_count": null,
      "outputs": []
    },
    {
      "cell_type": "code",
      "source": [
        "for input_example_batch, target_example_batch in dataset.take(1):\n",
        "    example_batch_predictions = model(input_example_batch)\n",
        "    print(example_batch_predictions.shape, \"# (batch_size, sequence_length, vocab_size)\")"
      ],
      "metadata": {
        "colab": {
          "base_uri": "https://localhost:8080/"
        },
        "id": "1np5KcvgiItB",
        "outputId": "862c4f10-9ed5-46a4-fa4b-df84a2f54ac9"
      },
      "id": "1np5KcvgiItB",
      "execution_count": null,
      "outputs": [
        {
          "output_type": "stream",
          "name": "stdout",
          "text": [
            "(64, 100, 66) # (batch_size, sequence_length, vocab_size)\n"
          ]
        }
      ]
    },
    {
      "cell_type": "code",
      "source": [
        "model.summary()"
      ],
      "metadata": {
        "colab": {
          "base_uri": "https://localhost:8080/"
        },
        "id": "RxSe-MuSiKYy",
        "outputId": "76a60cb6-03a8-42d0-8fe0-79c9089c72f3"
      },
      "id": "RxSe-MuSiKYy",
      "execution_count": null,
      "outputs": [
        {
          "output_type": "stream",
          "name": "stdout",
          "text": [
            "Model: \"my_model\"\n",
            "_________________________________________________________________\n",
            " Layer (type)                Output Shape              Param #   \n",
            "=================================================================\n",
            " embedding (Embedding)       multiple                  16896     \n",
            "                                                                 \n",
            " gru (GRU)                   multiple                  3938304   \n",
            "                                                                 \n",
            " dense (Dense)               multiple                  67650     \n",
            "                                                                 \n",
            "=================================================================\n",
            "Total params: 4022850 (15.35 MB)\n",
            "Trainable params: 4022850 (15.35 MB)\n",
            "Non-trainable params: 0 (0.00 Byte)\n",
            "_________________________________________________________________\n"
          ]
        }
      ]
    },
    {
      "cell_type": "code",
      "source": [
        "sampled_indices = tf.random.categorical(example_batch_predictions[0], num_samples=1)\n",
        "sampled_indices = tf.squeeze(sampled_indices, axis=-1).numpy()\n",
        "sampled_indices"
      ],
      "metadata": {
        "colab": {
          "base_uri": "https://localhost:8080/"
        },
        "id": "qkXOwKCdiMQr",
        "outputId": "ca1c655a-0df8-4424-d86d-a2673d43f893"
      },
      "id": "qkXOwKCdiMQr",
      "execution_count": null,
      "outputs": [
        {
          "output_type": "execute_result",
          "data": {
            "text/plain": [
              "array([46,  6, 58, 14, 34, 42, 52,  1, 21, 40, 54,  8, 56,  5, 23, 23, 23,\n",
              "       21, 17, 15, 63, 30, 20, 35, 61,  3, 44, 32, 21, 46, 50, 48, 63, 58,\n",
              "        6, 18, 28, 56,  8, 15, 57, 18, 59, 47, 51, 36, 37, 27, 34, 43, 15,\n",
              "       40, 62,  8, 53, 48,  1, 13, 27, 45, 52,  3, 44, 44, 38,  8, 48, 18,\n",
              "        3, 60, 29,  6,  4,  2, 36, 43, 62,  6, 23, 28, 47, 31, 52, 26, 41,\n",
              "        1, 10, 49,  3, 18,  6, 33,  6, 22, 13, 33, 25, 13, 47, 28])"
            ]
          },
          "metadata": {},
          "execution_count": 29
        }
      ]
    },
    {
      "cell_type": "code",
      "source": [
        "print(\"Input:\\n\", text_from_ids(input_example_batch[0]).numpy())\n",
        "print()\n",
        "print(\"Next Char Predictions:\\n\", text_from_ids(sampled_indices).numpy())"
      ],
      "metadata": {
        "colab": {
          "base_uri": "https://localhost:8080/"
        },
        "id": "KjcNFWHsiSKU",
        "outputId": "3404c544-a6ef-4dd9-9569-33fbd158cc19"
      },
      "id": "KjcNFWHsiSKU",
      "execution_count": null,
      "outputs": [
        {
          "output_type": "stream",
          "name": "stdout",
          "text": [
            "Input:\n",
            " b\"ive us some seats. Come, cousin Angelo;\\nIn this I'll be impartial; be you judge\\nOf your own cause. I\"\n",
            "\n",
            "Next Char Predictions:\n",
            " b\"g'sAUcm\\nHao-q&JJJHDBxQGVv!eSHgkixs'EOq-BrEthlWXNUdBaw-ni\\n?Nfm!eeY-iE!uP'$ Wdw'JOhRmMb\\n3j!E'T'I?TL?hO\"\n"
          ]
        }
      ]
    },
    {
      "cell_type": "code",
      "source": [
        "loss = tf.losses.SparseCategoricalCrossentropy(from_logits=True)"
      ],
      "metadata": {
        "id": "fuJIDnaLiTqs"
      },
      "id": "fuJIDnaLiTqs",
      "execution_count": null,
      "outputs": []
    },
    {
      "cell_type": "code",
      "source": [
        "example_batch_mean_loss = loss(target_example_batch, example_batch_predictions)\n",
        "print(\"Prediction shape: \", example_batch_predictions.shape, \" # (batch_size, sequence_length, vocab_size)\")\n",
        "print(\"Mean loss:        \", example_batch_mean_loss)"
      ],
      "metadata": {
        "colab": {
          "base_uri": "https://localhost:8080/"
        },
        "id": "JB8VLxmeiVcG",
        "outputId": "df7864d8-daa0-43bf-83e3-db9f0237729b"
      },
      "id": "JB8VLxmeiVcG",
      "execution_count": null,
      "outputs": [
        {
          "output_type": "stream",
          "name": "stdout",
          "text": [
            "Prediction shape:  (64, 100, 66)  # (batch_size, sequence_length, vocab_size)\n",
            "Mean loss:         tf.Tensor(4.1905184, shape=(), dtype=float32)\n"
          ]
        }
      ]
    },
    {
      "cell_type": "code",
      "source": [
        "tf.exp(example_batch_mean_loss).numpy()"
      ],
      "metadata": {
        "colab": {
          "base_uri": "https://localhost:8080/"
        },
        "id": "DciReAqZiYzj",
        "outputId": "9b2cf96c-59e3-4f35-d35e-cdd666c81482"
      },
      "id": "DciReAqZiYzj",
      "execution_count": null,
      "outputs": [
        {
          "output_type": "execute_result",
          "data": {
            "text/plain": [
              "66.05702"
            ]
          },
          "metadata": {},
          "execution_count": 33
        }
      ]
    },
    {
      "cell_type": "code",
      "source": [
        "model.compile(optimizer='adam', loss=loss)"
      ],
      "metadata": {
        "id": "Ui-_31-9idxi"
      },
      "id": "Ui-_31-9idxi",
      "execution_count": null,
      "outputs": []
    },
    {
      "cell_type": "code",
      "source": [
        "# Directory where the checkpoints will be saved\n",
        "checkpoint_dir = './training_checkpoints'\n",
        "# Name of the checkpoint files\n",
        "checkpoint_prefix = os.path.join(checkpoint_dir, \"ckpt_{epoch}\")\n",
        "\n",
        "checkpoint_callback = tf.keras.callbacks.ModelCheckpoint(\n",
        "    filepath=checkpoint_prefix,\n",
        "    save_weights_only=True)"
      ],
      "metadata": {
        "id": "46Y6uKwVikye"
      },
      "id": "46Y6uKwVikye",
      "execution_count": null,
      "outputs": []
    },
    {
      "cell_type": "code",
      "source": [
        "EPOCHS=20\n",
        "history=model.fit(dataset,epochs=EPOCHS,callbacks=[checkpoint_callback])"
      ],
      "metadata": {
        "colab": {
          "base_uri": "https://localhost:8080/"
        },
        "id": "z2xtvGMkimoh",
        "outputId": "63177e2f-05b4-4f61-cdfe-a6b5ed042c6a"
      },
      "id": "z2xtvGMkimoh",
      "execution_count": null,
      "outputs": [
        {
          "output_type": "stream",
          "name": "stdout",
          "text": [
            "Epoch 1/20\n",
            "172/172 [==============================] - 14s 56ms/step - loss: 2.7400\n",
            "Epoch 2/20\n",
            "172/172 [==============================] - 11s 56ms/step - loss: 1.9977\n",
            "Epoch 3/20\n",
            "172/172 [==============================] - 12s 57ms/step - loss: 1.7180\n",
            "Epoch 4/20\n",
            "172/172 [==============================] - 12s 58ms/step - loss: 1.5553\n",
            "Epoch 5/20\n",
            "172/172 [==============================] - 12s 59ms/step - loss: 1.4560\n",
            "Epoch 6/20\n",
            "172/172 [==============================] - 12s 62ms/step - loss: 1.3876\n",
            "Epoch 7/20\n",
            "172/172 [==============================] - 16s 62ms/step - loss: 1.3348\n",
            "Epoch 8/20\n",
            "172/172 [==============================] - 12s 62ms/step - loss: 1.2906\n",
            "Epoch 9/20\n",
            "172/172 [==============================] - 12s 62ms/step - loss: 1.2488\n",
            "Epoch 10/20\n",
            "172/172 [==============================] - 12s 63ms/step - loss: 1.2096\n",
            "Epoch 11/20\n",
            "172/172 [==============================] - 13s 62ms/step - loss: 1.1711\n",
            "Epoch 12/20\n",
            "172/172 [==============================] - 12s 61ms/step - loss: 1.1305\n",
            "Epoch 13/20\n",
            "172/172 [==============================] - 12s 62ms/step - loss: 1.0896\n",
            "Epoch 14/20\n",
            "172/172 [==============================] - 12s 63ms/step - loss: 1.0434\n",
            "Epoch 15/20\n",
            "172/172 [==============================] - 12s 61ms/step - loss: 0.9963\n",
            "Epoch 16/20\n",
            "172/172 [==============================] - 12s 61ms/step - loss: 0.9468\n",
            "Epoch 17/20\n",
            "172/172 [==============================] - 12s 61ms/step - loss: 0.8949\n",
            "Epoch 18/20\n",
            "172/172 [==============================] - 13s 62ms/step - loss: 0.8427\n",
            "Epoch 19/20\n",
            "172/172 [==============================] - 12s 62ms/step - loss: 0.7912\n",
            "Epoch 20/20\n",
            "172/172 [==============================] - 12s 62ms/step - loss: 0.7410\n"
          ]
        }
      ]
    },
    {
      "cell_type": "code",
      "source": [
        "class OneStep(tf.keras.Model):\n",
        "  def __init__(self, model, chars_from_ids, ids_from_chars, temperature=1.0):\n",
        "    super().__init__()\n",
        "    self.temperature = temperature\n",
        "    self.model = model\n",
        "    self.chars_from_ids = chars_from_ids\n",
        "    self.ids_from_chars = ids_from_chars\n",
        "\n",
        "    # Create a mask to prevent \"[UNK]\" from being generated.\n",
        "    skip_ids = self.ids_from_chars(['[UNK]'])[:, None]\n",
        "    sparse_mask = tf.SparseTensor(\n",
        "        # Put a -inf at each bad index.\n",
        "        values=[-float('inf')]*len(skip_ids),\n",
        "        indices=skip_ids,\n",
        "        # Match the shape to the vocabulary\n",
        "        dense_shape=[len(ids_from_chars.get_vocabulary())])\n",
        "    self.prediction_mask = tf.sparse.to_dense(sparse_mask)\n",
        "\n",
        "  @tf.function\n",
        "  def generate_one_step(self, inputs, states=None):\n",
        "    # Convert strings to token IDs.\n",
        "    input_chars = tf.strings.unicode_split(inputs, 'UTF-8')\n",
        "    input_ids = self.ids_from_chars(input_chars).to_tensor()\n",
        "\n",
        "    # Run the model.\n",
        "    # predicted_logits.shape is [batch, char, next_char_logits]\n",
        "    predicted_logits, states = self.model(inputs=input_ids, states=states,\n",
        "                                          return_state=True)\n",
        "    # Only use the last prediction.\n",
        "    predicted_logits = predicted_logits[:, -1, :]\n",
        "    predicted_logits = predicted_logits/self.temperature\n",
        "    # Apply the prediction mask: prevent \"[UNK]\" from being generated.\n",
        "    predicted_logits = predicted_logits + self.prediction_mask\n",
        "\n",
        "    # Sample the output logits to generate token IDs.\n",
        "    predicted_ids = tf.random.categorical(predicted_logits, num_samples=1)\n",
        "    predicted_ids = tf.squeeze(predicted_ids, axis=-1)\n",
        "\n",
        "    # Convert from token ids to characters\n",
        "    predicted_chars = self.chars_from_ids(predicted_ids)\n",
        "\n",
        "    # Return the characters and model state.\n",
        "    return predicted_chars, states"
      ],
      "metadata": {
        "id": "exSIG5p-iph4"
      },
      "id": "exSIG5p-iph4",
      "execution_count": null,
      "outputs": []
    },
    {
      "cell_type": "code",
      "source": [
        "one_step_model=OneStep(model,chars_from_ids,ids_from_chars)"
      ],
      "metadata": {
        "id": "1gL86hATivUR"
      },
      "id": "1gL86hATivUR",
      "execution_count": null,
      "outputs": []
    },
    {
      "cell_type": "code",
      "source": [
        "start = time.time()\n",
        "states = None\n",
        "next_char = tf.constant(['ROMEO:'])\n",
        "result = [next_char]\n",
        "\n",
        "for n in range(1000):\n",
        "  next_char, states = one_step_model.generate_one_step(next_char, states=states)\n",
        "  result.append(next_char)\n",
        "\n",
        "result = tf.strings.join(result)\n",
        "end = time.time()\n",
        "print(result[0].numpy().decode('utf-8'), '\\n\\n' + '_'*80)\n",
        "print('\\nRun time:', end - start)"
      ],
      "metadata": {
        "colab": {
          "base_uri": "https://localhost:8080/"
        },
        "id": "yDSyCCM9iyil",
        "outputId": "6cf9b5cf-9d90-4eea-be72-ab798126c190"
      },
      "id": "yDSyCCM9iyil",
      "execution_count": null,
      "outputs": [
        {
          "output_type": "stream",
          "name": "stdout",
          "text": [
            "ROMEO:\n",
            "This is the neck, and spit thy father Marcius show\n",
            "Mysiring woman. Heaven she doth me;\n",
            "My sovereign liege-may not, higher;\n",
            "The bloody all in Gloucester's death,\n",
            "To pardon thereof encounter shall subject.\n",
            "\n",
            "HENRY BOLINGBROKE:\n",
            "Night ours but what I spake, so rich in heaven,\n",
            "His island visits in a wanting queendy,\n",
            "That by the king hath thus half spurning.'\n",
            "I never did thee all to the Capitol and prince;\n",
            "That dicest intented, who, ever, he\n",
            "A know of curious earth friends to encounter of his\n",
            "treason; he blood, bandle, buided, being but thy news:\n",
            "He hath a prince to joyfully according for,\n",
            "And so I am, to lay amist of thine.\n",
            "\n",
            "EXETER:\n",
            "O, well entee go with me.\n",
            "Go, fellow, go tongue.\n",
            "But, Quoentio, Romeo!\n",
            "\n",
            "MENENIUS:\n",
            "Condemn vex'd, that then stay wind wrong my lord.\n",
            "\n",
            "QUEEN ELIZABETH:\n",
            "Oh my daughter claims, the air by Gremio.\n",
            "\n",
            "ROMEO:\n",
            "As ever was never lied for any case that\n",
            "There be one that, I think shall I be Marriar'd Hastings?\n",
            "\n",
            "CALIBA:\n",
            "I shall be satisfied.\n",
            "\n",
            "MEMELIO:\n",
            "And what I wot on yond m \n",
            "\n",
            "________________________________________________________________________________\n",
            "\n",
            "Run time: 3.275311231613159\n"
          ]
        }
      ]
    },
    {
      "cell_type": "code",
      "source": [
        "start = time.time()\n",
        "states = None\n",
        "next_char = tf.constant(['ROMEO:', 'ROMEO:', 'ROMEO:', 'ROMEO:', 'ROMEO:'])\n",
        "result = [next_char]\n",
        "\n",
        "for n in range(1000):\n",
        "  next_char, states = one_step_model.generate_one_step(next_char, states=states)\n",
        "  result.append(next_char)\n",
        "\n",
        "result = tf.strings.join(result)\n",
        "end = time.time()\n",
        "print(result, '\\n\\n' + '_'*80)\n",
        "print('\\nRun time:', end - start)"
      ],
      "metadata": {
        "colab": {
          "base_uri": "https://localhost:8080/"
        },
        "id": "MghzEy4Ui1VR",
        "outputId": "2d1b0d2e-667a-4c5c-fc0a-077193feb1e4"
      },
      "id": "MghzEy4Ui1VR",
      "execution_count": null,
      "outputs": [
        {
          "output_type": "stream",
          "name": "stdout",
          "text": [
            "tf.Tensor(\n",
            "[b\"ROMEO:\\nI had rather be revenue.\\n\\nKING RICHARD III:\\nNo, you can come.\\n\\nBENVOLIO:\\nStands, Sir Richard: What?\\n\\nLUCIO:\\nThou art some sevenalty.\\n\\nGREMIO:\\nAnd, for Lord Angelo dukes it off.\\n\\nLUCIO:\\nAs well the Duke of Norfolk, and 'tis plepared,\\nAnd a peemish of much boy for the glander's points\\nAnd revenge in prisoner. What! This accuse\\nI tell thee, have I weep, when yet it cheek,\\nHave held my innocent soul's refuse; therefore, be it known\\nWith silver sound'st insulting by your tears.\\n\\nNORTHUMBERLAND:\\nThe bloody broils to take another any threats,\\nHis soverimes affairs: King Edward is a woman,\\nThat had by him, the next necessity is\\nrather for our friends. Therefore, we have again\\nThan you pronuke to bid for him; who\\nHave you but like itself no day, to gat pleased\\nDoth lay aside: a very given and\\nclear night. What though come hither so unlook'd\\nFrom whence thou ortentation wind,\\nWhose stronger-houses of honour, i' the light!\\n\\nJULIET:\\nThe veins my senseless brand Paulina's speed\\nOf Mercuar mack'd a\"\n",
            " b\"ROMEO:\\nThese Paris shall be the fault of any womb,\\nThat put never the maid hath some of his;\\nThis forends in our attainted from the gariage\\nTo kindly him, and so look as arge, we shall\\nneed now to quesic with thorns: and then anon\\nAre you seeming, if the first word 'she's honest.\\nIf the well-heart to live, and my royaltest?\\nI would your guilty millions, in a good\\nfather; for I have attended on old care appear\\nOf golde friends, I will be tablius;\\nNor hateany spend us to thy friends,\\nBut banish the reply, or I was carefully laughing:\\nThese and these faithful kets of an unstrument; wilt thou, taunts,\\nThe bitter carseless reason whose warmsty\\nstood up me with your renowned jest.\\n\\nDUKE VINCENTIO:\\nBut 'twas I then ask him, he's beauty 'Hock, fair\\nShotten is dwell who not and in his tears?\\nI wish the exiltice for night till him\\nWere by his tolbunio: but given my rangage-suir\\nThe heads of York and noble lord:\\nThe blots estimation mourn in heaven,\\nThat back thy wrongs to amplument thee and insurf,--\\n\"\n",
            " b\"ROMEO:\\nThe king, he should reconcile them?\\n\\nGRUMIO:\\nI confess it my arm as, my daughter? now our noble folly\\nI wan thine eld strike. Having thy herbed bank!\\nPray you, poor father! nay, where! foolish countrymen,\\nI warrant thee, fellow with a litterness of men,\\nEre you were least of wicked ere now.\\nLo, his her mother? sir, what has may be so.\\n\\nTYBALT:\\nYou are set on foots! You have all behind:\\nNow do your woes which his head indeed\\nTherefore let give me leave, and set by back i' the war\\nThat will eat no more. You saw him not, morrow to in relenged.\\n\\nEDWARD:\\nMarry, ay, EWermine, tread of the king here bethink\\nMen's sweet broke hath made; but kneel of his,\\nAny-day shall to be slaves, not with your affection.\\n\\nALINTO:\\nSavish you\\nI see the blushes of your gossips,\\nTo bring you three-pined of his cap for distinguishment.\\n\\nQUEEN ELIZABETH:\\nAnd many thinks no mother!' but, so, I pray you,\\nAs that sad tongue's upon I saw,\\nAnd not a littlement and a Montagues,\\nStain death, for in a serious Detempt,\\nSh\"\n",
            " b\"ROMEO:\\nShe hath no virtues he should be!\\nWhere doth he to be? Camillo image\\nTo but from hence back to pierce and propared fife\\nWith powerful each or high before.\\n\\nANGELO:\\nLady, you resolved: o' Thursday what,\\nthink is it me wash the place where now she comes. This last gentleman,\\nTranio, she shall not say, sir. Come, bring forth,\\nI prize ity: Fritizon: Richard looks lords;\\nTurns to living geldes or two youth,\\nTo be a pardon e'er a present, but thy longest,\\nSupposes institutes and prouds,\\nFrom on thy nawing succeed turn!\\nFarewell, my lord, whoever grass impose\\nYou should not drink to be your knee, and kneel'd\\nto her Cure herein:\\nMost sobet me to the poor; knice another;\\nO, then, I hope, imagine my sweet babes;\\nAgain but jest, and as the all question\\nAfter their condugnes and after thee!\\n\\nESCALUS:\\nNo, he: your brother ridet what say'st thou slew'st, let the death of men\\nIn thy love deserves it.\\nBut what often forbid that Herberts,\\nHip horses sinking up the ghost that would\\nWhen they hear griev\"\n",
            " b\"ROMEO:\\nShould you say, sirnable young,--\\n\\nShepherd:\\nAy, but thou speak'st truth to 't.\\nI to him, infect thee, prais sumfully by drink.\\nYou talk of Hereford, and thou not array;\\nBut, O, if I were washed that will not\\nNow justified at by her. Prospero, shall go banished,\\nHert.\\n\\nSecond SebBy Bloody wandering; Almeals,\\nHortensio will be hereafter but their encounters,\\nNor had not with a gentle both, is in a power,\\nNot six or seven prisoner's goodly,\\nWith the leasure of his care fonds you shall pass.\\n\\nPERDITA:\\nO my being a bawd!'\\nThere is apon Tybalt, Lord Aumerle, 'Good lady.\\n\\nCORIOLANUS:\\nTut, dust not.\\nI have but faintly sink: was like this night before.\\n\\nKING RICHARD III:\\nYou have said, save himself?\\n\\nPOMPEY:\\nYes, my gracious lord, be over-torning care,\\nUpon my vied so far my brother's son:\\nAs sin better than offender'd truel,\\nHave been bold cause of such aslect, I cannot de\\nit he repets; thereby now join my soul,\\nNor enemy too rough, I'll be ruled:\\nAnd in this good lurk to yours, become a wor\"], shape=(5,), dtype=string) \n",
            "\n",
            "________________________________________________________________________________\n",
            "\n",
            "Run time: 3.289367914199829\n"
          ]
        }
      ]
    },
    {
      "cell_type": "code",
      "source": [
        "tf.saved_model.save(one_step_model, 'one_step')\n",
        "one_step_reloaded = tf.saved_model.load('one_step')"
      ],
      "metadata": {
        "colab": {
          "base_uri": "https://localhost:8080/"
        },
        "id": "6jUK8z9Li9Fq",
        "outputId": "02f3b765-182d-4c2e-da82-bab8b490796b"
      },
      "id": "6jUK8z9Li9Fq",
      "execution_count": null,
      "outputs": [
        {
          "output_type": "stream",
          "name": "stderr",
          "text": [
            "WARNING:tensorflow:Skipping full serialization of Keras layer <__main__.OneStep object at 0x7cf6818cee60>, because it is not built.\n",
            "WARNING:tensorflow:Model's `__init__()` arguments contain non-serializable objects. Please implement a `get_config()` method in the subclassed Model for proper saving and loading. Defaulting to empty config.\n",
            "WARNING:tensorflow:Model's `__init__()` arguments contain non-serializable objects. Please implement a `get_config()` method in the subclassed Model for proper saving and loading. Defaulting to empty config.\n"
          ]
        }
      ]
    },
    {
      "cell_type": "code",
      "source": [
        "states = None\n",
        "next_char = tf.constant(['ROMEO:'])\n",
        "result = [next_char]\n",
        "\n",
        "for n in range(100):\n",
        "  next_char, states = one_step_reloaded.generate_one_step(next_char, states=states)\n",
        "  result.append(next_char)\n",
        "\n",
        "print(tf.strings.join(result)[0].numpy().decode(\"utf-8\"))"
      ],
      "metadata": {
        "colab": {
          "base_uri": "https://localhost:8080/"
        },
        "id": "tyNKc1HsjPxN",
        "outputId": "3c36b46f-9564-4f3a-9799-e516dab56013"
      },
      "id": "tyNKc1HsjPxN",
      "execution_count": null,
      "outputs": [
        {
          "output_type": "stream",
          "name": "stdout",
          "text": [
            "ROMEO:\n",
            "The secrecious ask him with a groan'd drews,\n",
            "But they as yours for certain or your daughter.\n",
            "Here i\n"
          ]
        }
      ]
    },
    {
      "cell_type": "markdown",
      "source": [
        " kode tersebut digunakan untuk menghasilkan teks dari model yang di-load kembali (one_step_reloaded). Dimulai dengan kata 'ROMEO:', kode tersebut melakukan iterasi sebanyak 100 kali untuk memprediksi karakter berikutnya pada setiap langkah menggunakan metode generate_one_step. Hasil prediksi ditambahkan ke dalam list result.\n",
        "\n",
        "Selanjutnya, hasil prediksi diubah menjadi string menggunakan tf.strings.join(result)[0].numpy().decode(\"utf-8\"). Ini menggabungkan hasil prediksi menjadi satu string dan mengonversinya ke dalam format UTF-8, sehingga menghasilkan teks yang diprediksi.\n",
        "\n",
        "Potongan kode ini memberikan contoh penggunaan model yang di-load kembali untuk menghasilkan teks lanjutan berdasarkan input awal 'ROMEO:'. Pemanggilan generate_one_step pada setiap iterasi memungkinkan model untuk mengingat konteks sebelumnya dan menghasilkan teks yang berkembang sepanjang iterasi."
      ],
      "metadata": {
        "id": "4u-ZPIcXlJKZ"
      },
      "id": "4u-ZPIcXlJKZ"
    }
  ],
  "metadata": {
    "kernelspec": {
      "display_name": "TensorFlowGPU",
      "language": "python",
      "name": "tf_gpu"
    },
    "language_info": {
      "codemirror_mode": {
        "name": "ipython",
        "version": 3
      },
      "file_extension": ".py",
      "mimetype": "text/x-python",
      "name": "python",
      "nbconvert_exporter": "python",
      "pygments_lexer": "ipython3",
      "version": "3.9.18"
    },
    "colab": {
      "provenance": [],
      "gpuType": "T4",
      "include_colab_link": true
    },
    "accelerator": "GPU",
    "widgets": {
      "application/vnd.jupyter.widget-state+json": {
        "95de53e399b748b68f36aff13bec4ce1": {
          "model_module": "@jupyter-widgets/controls",
          "model_name": "HBoxModel",
          "model_module_version": "1.5.0",
          "state": {
            "_dom_classes": [],
            "_model_module": "@jupyter-widgets/controls",
            "_model_module_version": "1.5.0",
            "_model_name": "HBoxModel",
            "_view_count": null,
            "_view_module": "@jupyter-widgets/controls",
            "_view_module_version": "1.5.0",
            "_view_name": "HBoxView",
            "box_style": "",
            "children": [
              "IPY_MODEL_b218fd9d70f54b18b6aaf96108dec592",
              "IPY_MODEL_9185d53fc2ce4ba58c958fbf14cc70ae",
              "IPY_MODEL_80e3000f7c5d43298783cbf059f18958"
            ],
            "layout": "IPY_MODEL_e1e2e4b69c3447299996df24dbc10b46"
          }
        },
        "b218fd9d70f54b18b6aaf96108dec592": {
          "model_module": "@jupyter-widgets/controls",
          "model_name": "HTMLModel",
          "model_module_version": "1.5.0",
          "state": {
            "_dom_classes": [],
            "_model_module": "@jupyter-widgets/controls",
            "_model_module_version": "1.5.0",
            "_model_name": "HTMLModel",
            "_view_count": null,
            "_view_module": "@jupyter-widgets/controls",
            "_view_module_version": "1.5.0",
            "_view_name": "HTMLView",
            "description": "",
            "description_tooltip": null,
            "layout": "IPY_MODEL_06ecdb542c984e37a81c99a594bdbe0d",
            "placeholder": "​",
            "style": "IPY_MODEL_db7af2567e0643d0bc381cc3bd677e24",
            "value": "Dl Completed...: 100%"
          }
        },
        "9185d53fc2ce4ba58c958fbf14cc70ae": {
          "model_module": "@jupyter-widgets/controls",
          "model_name": "FloatProgressModel",
          "model_module_version": "1.5.0",
          "state": {
            "_dom_classes": [],
            "_model_module": "@jupyter-widgets/controls",
            "_model_module_version": "1.5.0",
            "_model_name": "FloatProgressModel",
            "_view_count": null,
            "_view_module": "@jupyter-widgets/controls",
            "_view_module_version": "1.5.0",
            "_view_name": "ProgressView",
            "bar_style": "success",
            "description": "",
            "description_tooltip": null,
            "layout": "IPY_MODEL_41c91f3e9a9c4cefa2e540281428cf09",
            "max": 1,
            "min": 0,
            "orientation": "horizontal",
            "style": "IPY_MODEL_45eb121d6d5343658aa9a548dc136cf0",
            "value": 1
          }
        },
        "80e3000f7c5d43298783cbf059f18958": {
          "model_module": "@jupyter-widgets/controls",
          "model_name": "HTMLModel",
          "model_module_version": "1.5.0",
          "state": {
            "_dom_classes": [],
            "_model_module": "@jupyter-widgets/controls",
            "_model_module_version": "1.5.0",
            "_model_name": "HTMLModel",
            "_view_count": null,
            "_view_module": "@jupyter-widgets/controls",
            "_view_module_version": "1.5.0",
            "_view_name": "HTMLView",
            "description": "",
            "description_tooltip": null,
            "layout": "IPY_MODEL_f8ee375987434cfe9140d785354be7ef",
            "placeholder": "​",
            "style": "IPY_MODEL_bdc2fef4b6b04bad959ac825a12b17d9",
            "value": " 1/1 [00:08&lt;00:00,  8.26s/ url]"
          }
        },
        "e1e2e4b69c3447299996df24dbc10b46": {
          "model_module": "@jupyter-widgets/base",
          "model_name": "LayoutModel",
          "model_module_version": "1.2.0",
          "state": {
            "_model_module": "@jupyter-widgets/base",
            "_model_module_version": "1.2.0",
            "_model_name": "LayoutModel",
            "_view_count": null,
            "_view_module": "@jupyter-widgets/base",
            "_view_module_version": "1.2.0",
            "_view_name": "LayoutView",
            "align_content": null,
            "align_items": null,
            "align_self": null,
            "border": null,
            "bottom": null,
            "display": null,
            "flex": null,
            "flex_flow": null,
            "grid_area": null,
            "grid_auto_columns": null,
            "grid_auto_flow": null,
            "grid_auto_rows": null,
            "grid_column": null,
            "grid_gap": null,
            "grid_row": null,
            "grid_template_areas": null,
            "grid_template_columns": null,
            "grid_template_rows": null,
            "height": null,
            "justify_content": null,
            "justify_items": null,
            "left": null,
            "margin": null,
            "max_height": null,
            "max_width": null,
            "min_height": null,
            "min_width": null,
            "object_fit": null,
            "object_position": null,
            "order": null,
            "overflow": null,
            "overflow_x": null,
            "overflow_y": null,
            "padding": null,
            "right": null,
            "top": null,
            "visibility": null,
            "width": null
          }
        },
        "06ecdb542c984e37a81c99a594bdbe0d": {
          "model_module": "@jupyter-widgets/base",
          "model_name": "LayoutModel",
          "model_module_version": "1.2.0",
          "state": {
            "_model_module": "@jupyter-widgets/base",
            "_model_module_version": "1.2.0",
            "_model_name": "LayoutModel",
            "_view_count": null,
            "_view_module": "@jupyter-widgets/base",
            "_view_module_version": "1.2.0",
            "_view_name": "LayoutView",
            "align_content": null,
            "align_items": null,
            "align_self": null,
            "border": null,
            "bottom": null,
            "display": null,
            "flex": null,
            "flex_flow": null,
            "grid_area": null,
            "grid_auto_columns": null,
            "grid_auto_flow": null,
            "grid_auto_rows": null,
            "grid_column": null,
            "grid_gap": null,
            "grid_row": null,
            "grid_template_areas": null,
            "grid_template_columns": null,
            "grid_template_rows": null,
            "height": null,
            "justify_content": null,
            "justify_items": null,
            "left": null,
            "margin": null,
            "max_height": null,
            "max_width": null,
            "min_height": null,
            "min_width": null,
            "object_fit": null,
            "object_position": null,
            "order": null,
            "overflow": null,
            "overflow_x": null,
            "overflow_y": null,
            "padding": null,
            "right": null,
            "top": null,
            "visibility": null,
            "width": null
          }
        },
        "db7af2567e0643d0bc381cc3bd677e24": {
          "model_module": "@jupyter-widgets/controls",
          "model_name": "DescriptionStyleModel",
          "model_module_version": "1.5.0",
          "state": {
            "_model_module": "@jupyter-widgets/controls",
            "_model_module_version": "1.5.0",
            "_model_name": "DescriptionStyleModel",
            "_view_count": null,
            "_view_module": "@jupyter-widgets/base",
            "_view_module_version": "1.2.0",
            "_view_name": "StyleView",
            "description_width": ""
          }
        },
        "41c91f3e9a9c4cefa2e540281428cf09": {
          "model_module": "@jupyter-widgets/base",
          "model_name": "LayoutModel",
          "model_module_version": "1.2.0",
          "state": {
            "_model_module": "@jupyter-widgets/base",
            "_model_module_version": "1.2.0",
            "_model_name": "LayoutModel",
            "_view_count": null,
            "_view_module": "@jupyter-widgets/base",
            "_view_module_version": "1.2.0",
            "_view_name": "LayoutView",
            "align_content": null,
            "align_items": null,
            "align_self": null,
            "border": null,
            "bottom": null,
            "display": null,
            "flex": null,
            "flex_flow": null,
            "grid_area": null,
            "grid_auto_columns": null,
            "grid_auto_flow": null,
            "grid_auto_rows": null,
            "grid_column": null,
            "grid_gap": null,
            "grid_row": null,
            "grid_template_areas": null,
            "grid_template_columns": null,
            "grid_template_rows": null,
            "height": null,
            "justify_content": null,
            "justify_items": null,
            "left": null,
            "margin": null,
            "max_height": null,
            "max_width": null,
            "min_height": null,
            "min_width": null,
            "object_fit": null,
            "object_position": null,
            "order": null,
            "overflow": null,
            "overflow_x": null,
            "overflow_y": null,
            "padding": null,
            "right": null,
            "top": null,
            "visibility": null,
            "width": "20px"
          }
        },
        "45eb121d6d5343658aa9a548dc136cf0": {
          "model_module": "@jupyter-widgets/controls",
          "model_name": "ProgressStyleModel",
          "model_module_version": "1.5.0",
          "state": {
            "_model_module": "@jupyter-widgets/controls",
            "_model_module_version": "1.5.0",
            "_model_name": "ProgressStyleModel",
            "_view_count": null,
            "_view_module": "@jupyter-widgets/base",
            "_view_module_version": "1.2.0",
            "_view_name": "StyleView",
            "bar_color": null,
            "description_width": ""
          }
        },
        "f8ee375987434cfe9140d785354be7ef": {
          "model_module": "@jupyter-widgets/base",
          "model_name": "LayoutModel",
          "model_module_version": "1.2.0",
          "state": {
            "_model_module": "@jupyter-widgets/base",
            "_model_module_version": "1.2.0",
            "_model_name": "LayoutModel",
            "_view_count": null,
            "_view_module": "@jupyter-widgets/base",
            "_view_module_version": "1.2.0",
            "_view_name": "LayoutView",
            "align_content": null,
            "align_items": null,
            "align_self": null,
            "border": null,
            "bottom": null,
            "display": null,
            "flex": null,
            "flex_flow": null,
            "grid_area": null,
            "grid_auto_columns": null,
            "grid_auto_flow": null,
            "grid_auto_rows": null,
            "grid_column": null,
            "grid_gap": null,
            "grid_row": null,
            "grid_template_areas": null,
            "grid_template_columns": null,
            "grid_template_rows": null,
            "height": null,
            "justify_content": null,
            "justify_items": null,
            "left": null,
            "margin": null,
            "max_height": null,
            "max_width": null,
            "min_height": null,
            "min_width": null,
            "object_fit": null,
            "object_position": null,
            "order": null,
            "overflow": null,
            "overflow_x": null,
            "overflow_y": null,
            "padding": null,
            "right": null,
            "top": null,
            "visibility": null,
            "width": null
          }
        },
        "bdc2fef4b6b04bad959ac825a12b17d9": {
          "model_module": "@jupyter-widgets/controls",
          "model_name": "DescriptionStyleModel",
          "model_module_version": "1.5.0",
          "state": {
            "_model_module": "@jupyter-widgets/controls",
            "_model_module_version": "1.5.0",
            "_model_name": "DescriptionStyleModel",
            "_view_count": null,
            "_view_module": "@jupyter-widgets/base",
            "_view_module_version": "1.2.0",
            "_view_name": "StyleView",
            "description_width": ""
          }
        },
        "ef15d3dd50ec4f9c9e094d73412d6e94": {
          "model_module": "@jupyter-widgets/controls",
          "model_name": "HBoxModel",
          "model_module_version": "1.5.0",
          "state": {
            "_dom_classes": [],
            "_model_module": "@jupyter-widgets/controls",
            "_model_module_version": "1.5.0",
            "_model_name": "HBoxModel",
            "_view_count": null,
            "_view_module": "@jupyter-widgets/controls",
            "_view_module_version": "1.5.0",
            "_view_name": "HBoxView",
            "box_style": "",
            "children": [
              "IPY_MODEL_620054e5f1fa410faa0e167955ebf015",
              "IPY_MODEL_f0683fce3d154266ad3fa9387ecb62ce",
              "IPY_MODEL_a538d6aec1574bd5ae34de9d99627b83"
            ],
            "layout": "IPY_MODEL_a692e391e47749768c33cb63830e7722"
          }
        },
        "620054e5f1fa410faa0e167955ebf015": {
          "model_module": "@jupyter-widgets/controls",
          "model_name": "HTMLModel",
          "model_module_version": "1.5.0",
          "state": {
            "_dom_classes": [],
            "_model_module": "@jupyter-widgets/controls",
            "_model_module_version": "1.5.0",
            "_model_name": "HTMLModel",
            "_view_count": null,
            "_view_module": "@jupyter-widgets/controls",
            "_view_module_version": "1.5.0",
            "_view_name": "HTMLView",
            "description": "",
            "description_tooltip": null,
            "layout": "IPY_MODEL_e2bc0a7b0a484b21ae709a86676a6d39",
            "placeholder": "​",
            "style": "IPY_MODEL_72cfe4a4f76e4abd886ae4c11014e593",
            "value": "Dl Size...: 100%"
          }
        },
        "f0683fce3d154266ad3fa9387ecb62ce": {
          "model_module": "@jupyter-widgets/controls",
          "model_name": "FloatProgressModel",
          "model_module_version": "1.5.0",
          "state": {
            "_dom_classes": [],
            "_model_module": "@jupyter-widgets/controls",
            "_model_module_version": "1.5.0",
            "_model_name": "FloatProgressModel",
            "_view_count": null,
            "_view_module": "@jupyter-widgets/controls",
            "_view_module_version": "1.5.0",
            "_view_name": "ProgressView",
            "bar_style": "success",
            "description": "",
            "description_tooltip": null,
            "layout": "IPY_MODEL_8ba3141a1a964db79b63e22b128500bb",
            "max": 1,
            "min": 0,
            "orientation": "horizontal",
            "style": "IPY_MODEL_7d00d031fa7242168a187186fa067c57",
            "value": 1
          }
        },
        "a538d6aec1574bd5ae34de9d99627b83": {
          "model_module": "@jupyter-widgets/controls",
          "model_name": "HTMLModel",
          "model_module_version": "1.5.0",
          "state": {
            "_dom_classes": [],
            "_model_module": "@jupyter-widgets/controls",
            "_model_module_version": "1.5.0",
            "_model_name": "HTMLModel",
            "_view_count": null,
            "_view_module": "@jupyter-widgets/controls",
            "_view_module_version": "1.5.0",
            "_view_name": "HTMLView",
            "description": "",
            "description_tooltip": null,
            "layout": "IPY_MODEL_ed2788fa55884427996a4ea4754f0478",
            "placeholder": "​",
            "style": "IPY_MODEL_c4d826f483d640a485e17c77c3487402",
            "value": " 80/80 [00:08&lt;00:00, 19.50 MiB/s]"
          }
        },
        "a692e391e47749768c33cb63830e7722": {
          "model_module": "@jupyter-widgets/base",
          "model_name": "LayoutModel",
          "model_module_version": "1.2.0",
          "state": {
            "_model_module": "@jupyter-widgets/base",
            "_model_module_version": "1.2.0",
            "_model_name": "LayoutModel",
            "_view_count": null,
            "_view_module": "@jupyter-widgets/base",
            "_view_module_version": "1.2.0",
            "_view_name": "LayoutView",
            "align_content": null,
            "align_items": null,
            "align_self": null,
            "border": null,
            "bottom": null,
            "display": null,
            "flex": null,
            "flex_flow": null,
            "grid_area": null,
            "grid_auto_columns": null,
            "grid_auto_flow": null,
            "grid_auto_rows": null,
            "grid_column": null,
            "grid_gap": null,
            "grid_row": null,
            "grid_template_areas": null,
            "grid_template_columns": null,
            "grid_template_rows": null,
            "height": null,
            "justify_content": null,
            "justify_items": null,
            "left": null,
            "margin": null,
            "max_height": null,
            "max_width": null,
            "min_height": null,
            "min_width": null,
            "object_fit": null,
            "object_position": null,
            "order": null,
            "overflow": null,
            "overflow_x": null,
            "overflow_y": null,
            "padding": null,
            "right": null,
            "top": null,
            "visibility": null,
            "width": null
          }
        },
        "e2bc0a7b0a484b21ae709a86676a6d39": {
          "model_module": "@jupyter-widgets/base",
          "model_name": "LayoutModel",
          "model_module_version": "1.2.0",
          "state": {
            "_model_module": "@jupyter-widgets/base",
            "_model_module_version": "1.2.0",
            "_model_name": "LayoutModel",
            "_view_count": null,
            "_view_module": "@jupyter-widgets/base",
            "_view_module_version": "1.2.0",
            "_view_name": "LayoutView",
            "align_content": null,
            "align_items": null,
            "align_self": null,
            "border": null,
            "bottom": null,
            "display": null,
            "flex": null,
            "flex_flow": null,
            "grid_area": null,
            "grid_auto_columns": null,
            "grid_auto_flow": null,
            "grid_auto_rows": null,
            "grid_column": null,
            "grid_gap": null,
            "grid_row": null,
            "grid_template_areas": null,
            "grid_template_columns": null,
            "grid_template_rows": null,
            "height": null,
            "justify_content": null,
            "justify_items": null,
            "left": null,
            "margin": null,
            "max_height": null,
            "max_width": null,
            "min_height": null,
            "min_width": null,
            "object_fit": null,
            "object_position": null,
            "order": null,
            "overflow": null,
            "overflow_x": null,
            "overflow_y": null,
            "padding": null,
            "right": null,
            "top": null,
            "visibility": null,
            "width": null
          }
        },
        "72cfe4a4f76e4abd886ae4c11014e593": {
          "model_module": "@jupyter-widgets/controls",
          "model_name": "DescriptionStyleModel",
          "model_module_version": "1.5.0",
          "state": {
            "_model_module": "@jupyter-widgets/controls",
            "_model_module_version": "1.5.0",
            "_model_name": "DescriptionStyleModel",
            "_view_count": null,
            "_view_module": "@jupyter-widgets/base",
            "_view_module_version": "1.2.0",
            "_view_name": "StyleView",
            "description_width": ""
          }
        },
        "8ba3141a1a964db79b63e22b128500bb": {
          "model_module": "@jupyter-widgets/base",
          "model_name": "LayoutModel",
          "model_module_version": "1.2.0",
          "state": {
            "_model_module": "@jupyter-widgets/base",
            "_model_module_version": "1.2.0",
            "_model_name": "LayoutModel",
            "_view_count": null,
            "_view_module": "@jupyter-widgets/base",
            "_view_module_version": "1.2.0",
            "_view_name": "LayoutView",
            "align_content": null,
            "align_items": null,
            "align_self": null,
            "border": null,
            "bottom": null,
            "display": null,
            "flex": null,
            "flex_flow": null,
            "grid_area": null,
            "grid_auto_columns": null,
            "grid_auto_flow": null,
            "grid_auto_rows": null,
            "grid_column": null,
            "grid_gap": null,
            "grid_row": null,
            "grid_template_areas": null,
            "grid_template_columns": null,
            "grid_template_rows": null,
            "height": null,
            "justify_content": null,
            "justify_items": null,
            "left": null,
            "margin": null,
            "max_height": null,
            "max_width": null,
            "min_height": null,
            "min_width": null,
            "object_fit": null,
            "object_position": null,
            "order": null,
            "overflow": null,
            "overflow_x": null,
            "overflow_y": null,
            "padding": null,
            "right": null,
            "top": null,
            "visibility": null,
            "width": "20px"
          }
        },
        "7d00d031fa7242168a187186fa067c57": {
          "model_module": "@jupyter-widgets/controls",
          "model_name": "ProgressStyleModel",
          "model_module_version": "1.5.0",
          "state": {
            "_model_module": "@jupyter-widgets/controls",
            "_model_module_version": "1.5.0",
            "_model_name": "ProgressStyleModel",
            "_view_count": null,
            "_view_module": "@jupyter-widgets/base",
            "_view_module_version": "1.2.0",
            "_view_name": "StyleView",
            "bar_color": null,
            "description_width": ""
          }
        },
        "ed2788fa55884427996a4ea4754f0478": {
          "model_module": "@jupyter-widgets/base",
          "model_name": "LayoutModel",
          "model_module_version": "1.2.0",
          "state": {
            "_model_module": "@jupyter-widgets/base",
            "_model_module_version": "1.2.0",
            "_model_name": "LayoutModel",
            "_view_count": null,
            "_view_module": "@jupyter-widgets/base",
            "_view_module_version": "1.2.0",
            "_view_name": "LayoutView",
            "align_content": null,
            "align_items": null,
            "align_self": null,
            "border": null,
            "bottom": null,
            "display": null,
            "flex": null,
            "flex_flow": null,
            "grid_area": null,
            "grid_auto_columns": null,
            "grid_auto_flow": null,
            "grid_auto_rows": null,
            "grid_column": null,
            "grid_gap": null,
            "grid_row": null,
            "grid_template_areas": null,
            "grid_template_columns": null,
            "grid_template_rows": null,
            "height": null,
            "justify_content": null,
            "justify_items": null,
            "left": null,
            "margin": null,
            "max_height": null,
            "max_width": null,
            "min_height": null,
            "min_width": null,
            "object_fit": null,
            "object_position": null,
            "order": null,
            "overflow": null,
            "overflow_x": null,
            "overflow_y": null,
            "padding": null,
            "right": null,
            "top": null,
            "visibility": null,
            "width": null
          }
        },
        "c4d826f483d640a485e17c77c3487402": {
          "model_module": "@jupyter-widgets/controls",
          "model_name": "DescriptionStyleModel",
          "model_module_version": "1.5.0",
          "state": {
            "_model_module": "@jupyter-widgets/controls",
            "_model_module_version": "1.5.0",
            "_model_name": "DescriptionStyleModel",
            "_view_count": null,
            "_view_module": "@jupyter-widgets/base",
            "_view_module_version": "1.2.0",
            "_view_name": "StyleView",
            "description_width": ""
          }
        },
        "2aa39c70d68442f5ad3cc2d6ebe7accd": {
          "model_module": "@jupyter-widgets/controls",
          "model_name": "HBoxModel",
          "model_module_version": "1.5.0",
          "state": {
            "_dom_classes": [],
            "_model_module": "@jupyter-widgets/controls",
            "_model_module_version": "1.5.0",
            "_model_name": "HBoxModel",
            "_view_count": null,
            "_view_module": "@jupyter-widgets/controls",
            "_view_module_version": "1.5.0",
            "_view_name": "HBoxView",
            "box_style": "",
            "children": [
              "IPY_MODEL_6cda04e632d34c78950b2d3510c2d22c",
              "IPY_MODEL_f14de0c221d4400da5c81a2e86ad4676",
              "IPY_MODEL_693a4566f1e44d75b09e0ad2adc0f8b6"
            ],
            "layout": "IPY_MODEL_6ac0e866813b4817ab0ff39eacff1f57"
          }
        },
        "6cda04e632d34c78950b2d3510c2d22c": {
          "model_module": "@jupyter-widgets/controls",
          "model_name": "HTMLModel",
          "model_module_version": "1.5.0",
          "state": {
            "_dom_classes": [],
            "_model_module": "@jupyter-widgets/controls",
            "_model_module_version": "1.5.0",
            "_model_name": "HTMLModel",
            "_view_count": null,
            "_view_module": "@jupyter-widgets/controls",
            "_view_module_version": "1.5.0",
            "_view_name": "HTMLView",
            "description": "",
            "description_tooltip": null,
            "layout": "IPY_MODEL_1b3fe311de2c470089377b80fce1b569",
            "placeholder": "​",
            "style": "IPY_MODEL_ec8ab500701f409d9dbdc95ad2e7a7e2",
            "value": "Generating splits...: 100%"
          }
        },
        "f14de0c221d4400da5c81a2e86ad4676": {
          "model_module": "@jupyter-widgets/controls",
          "model_name": "FloatProgressModel",
          "model_module_version": "1.5.0",
          "state": {
            "_dom_classes": [],
            "_model_module": "@jupyter-widgets/controls",
            "_model_module_version": "1.5.0",
            "_model_name": "FloatProgressModel",
            "_view_count": null,
            "_view_module": "@jupyter-widgets/controls",
            "_view_module_version": "1.5.0",
            "_view_name": "ProgressView",
            "bar_style": "",
            "description": "",
            "description_tooltip": null,
            "layout": "IPY_MODEL_60236b29956b4d11b3bca65e11da5c40",
            "max": 3,
            "min": 0,
            "orientation": "horizontal",
            "style": "IPY_MODEL_48a5e33437d840eda14efb13a3d6b4f4",
            "value": 3
          }
        },
        "693a4566f1e44d75b09e0ad2adc0f8b6": {
          "model_module": "@jupyter-widgets/controls",
          "model_name": "HTMLModel",
          "model_module_version": "1.5.0",
          "state": {
            "_dom_classes": [],
            "_model_module": "@jupyter-widgets/controls",
            "_model_module_version": "1.5.0",
            "_model_name": "HTMLModel",
            "_view_count": null,
            "_view_module": "@jupyter-widgets/controls",
            "_view_module_version": "1.5.0",
            "_view_name": "HTMLView",
            "description": "",
            "description_tooltip": null,
            "layout": "IPY_MODEL_f62357e06dce4a5cba76263d784b02f0",
            "placeholder": "​",
            "style": "IPY_MODEL_66342726fe894f02bdc4e2eaa4f5b222",
            "value": " 3/3 [00:38&lt;00:00, 12.95s/ splits]"
          }
        },
        "6ac0e866813b4817ab0ff39eacff1f57": {
          "model_module": "@jupyter-widgets/base",
          "model_name": "LayoutModel",
          "model_module_version": "1.2.0",
          "state": {
            "_model_module": "@jupyter-widgets/base",
            "_model_module_version": "1.2.0",
            "_model_name": "LayoutModel",
            "_view_count": null,
            "_view_module": "@jupyter-widgets/base",
            "_view_module_version": "1.2.0",
            "_view_name": "LayoutView",
            "align_content": null,
            "align_items": null,
            "align_self": null,
            "border": null,
            "bottom": null,
            "display": null,
            "flex": null,
            "flex_flow": null,
            "grid_area": null,
            "grid_auto_columns": null,
            "grid_auto_flow": null,
            "grid_auto_rows": null,
            "grid_column": null,
            "grid_gap": null,
            "grid_row": null,
            "grid_template_areas": null,
            "grid_template_columns": null,
            "grid_template_rows": null,
            "height": null,
            "justify_content": null,
            "justify_items": null,
            "left": null,
            "margin": null,
            "max_height": null,
            "max_width": null,
            "min_height": null,
            "min_width": null,
            "object_fit": null,
            "object_position": null,
            "order": null,
            "overflow": null,
            "overflow_x": null,
            "overflow_y": null,
            "padding": null,
            "right": null,
            "top": null,
            "visibility": "hidden",
            "width": null
          }
        },
        "1b3fe311de2c470089377b80fce1b569": {
          "model_module": "@jupyter-widgets/base",
          "model_name": "LayoutModel",
          "model_module_version": "1.2.0",
          "state": {
            "_model_module": "@jupyter-widgets/base",
            "_model_module_version": "1.2.0",
            "_model_name": "LayoutModel",
            "_view_count": null,
            "_view_module": "@jupyter-widgets/base",
            "_view_module_version": "1.2.0",
            "_view_name": "LayoutView",
            "align_content": null,
            "align_items": null,
            "align_self": null,
            "border": null,
            "bottom": null,
            "display": null,
            "flex": null,
            "flex_flow": null,
            "grid_area": null,
            "grid_auto_columns": null,
            "grid_auto_flow": null,
            "grid_auto_rows": null,
            "grid_column": null,
            "grid_gap": null,
            "grid_row": null,
            "grid_template_areas": null,
            "grid_template_columns": null,
            "grid_template_rows": null,
            "height": null,
            "justify_content": null,
            "justify_items": null,
            "left": null,
            "margin": null,
            "max_height": null,
            "max_width": null,
            "min_height": null,
            "min_width": null,
            "object_fit": null,
            "object_position": null,
            "order": null,
            "overflow": null,
            "overflow_x": null,
            "overflow_y": null,
            "padding": null,
            "right": null,
            "top": null,
            "visibility": null,
            "width": null
          }
        },
        "ec8ab500701f409d9dbdc95ad2e7a7e2": {
          "model_module": "@jupyter-widgets/controls",
          "model_name": "DescriptionStyleModel",
          "model_module_version": "1.5.0",
          "state": {
            "_model_module": "@jupyter-widgets/controls",
            "_model_module_version": "1.5.0",
            "_model_name": "DescriptionStyleModel",
            "_view_count": null,
            "_view_module": "@jupyter-widgets/base",
            "_view_module_version": "1.2.0",
            "_view_name": "StyleView",
            "description_width": ""
          }
        },
        "60236b29956b4d11b3bca65e11da5c40": {
          "model_module": "@jupyter-widgets/base",
          "model_name": "LayoutModel",
          "model_module_version": "1.2.0",
          "state": {
            "_model_module": "@jupyter-widgets/base",
            "_model_module_version": "1.2.0",
            "_model_name": "LayoutModel",
            "_view_count": null,
            "_view_module": "@jupyter-widgets/base",
            "_view_module_version": "1.2.0",
            "_view_name": "LayoutView",
            "align_content": null,
            "align_items": null,
            "align_self": null,
            "border": null,
            "bottom": null,
            "display": null,
            "flex": null,
            "flex_flow": null,
            "grid_area": null,
            "grid_auto_columns": null,
            "grid_auto_flow": null,
            "grid_auto_rows": null,
            "grid_column": null,
            "grid_gap": null,
            "grid_row": null,
            "grid_template_areas": null,
            "grid_template_columns": null,
            "grid_template_rows": null,
            "height": null,
            "justify_content": null,
            "justify_items": null,
            "left": null,
            "margin": null,
            "max_height": null,
            "max_width": null,
            "min_height": null,
            "min_width": null,
            "object_fit": null,
            "object_position": null,
            "order": null,
            "overflow": null,
            "overflow_x": null,
            "overflow_y": null,
            "padding": null,
            "right": null,
            "top": null,
            "visibility": null,
            "width": null
          }
        },
        "48a5e33437d840eda14efb13a3d6b4f4": {
          "model_module": "@jupyter-widgets/controls",
          "model_name": "ProgressStyleModel",
          "model_module_version": "1.5.0",
          "state": {
            "_model_module": "@jupyter-widgets/controls",
            "_model_module_version": "1.5.0",
            "_model_name": "ProgressStyleModel",
            "_view_count": null,
            "_view_module": "@jupyter-widgets/base",
            "_view_module_version": "1.2.0",
            "_view_name": "StyleView",
            "bar_color": null,
            "description_width": ""
          }
        },
        "f62357e06dce4a5cba76263d784b02f0": {
          "model_module": "@jupyter-widgets/base",
          "model_name": "LayoutModel",
          "model_module_version": "1.2.0",
          "state": {
            "_model_module": "@jupyter-widgets/base",
            "_model_module_version": "1.2.0",
            "_model_name": "LayoutModel",
            "_view_count": null,
            "_view_module": "@jupyter-widgets/base",
            "_view_module_version": "1.2.0",
            "_view_name": "LayoutView",
            "align_content": null,
            "align_items": null,
            "align_self": null,
            "border": null,
            "bottom": null,
            "display": null,
            "flex": null,
            "flex_flow": null,
            "grid_area": null,
            "grid_auto_columns": null,
            "grid_auto_flow": null,
            "grid_auto_rows": null,
            "grid_column": null,
            "grid_gap": null,
            "grid_row": null,
            "grid_template_areas": null,
            "grid_template_columns": null,
            "grid_template_rows": null,
            "height": null,
            "justify_content": null,
            "justify_items": null,
            "left": null,
            "margin": null,
            "max_height": null,
            "max_width": null,
            "min_height": null,
            "min_width": null,
            "object_fit": null,
            "object_position": null,
            "order": null,
            "overflow": null,
            "overflow_x": null,
            "overflow_y": null,
            "padding": null,
            "right": null,
            "top": null,
            "visibility": null,
            "width": null
          }
        },
        "66342726fe894f02bdc4e2eaa4f5b222": {
          "model_module": "@jupyter-widgets/controls",
          "model_name": "DescriptionStyleModel",
          "model_module_version": "1.5.0",
          "state": {
            "_model_module": "@jupyter-widgets/controls",
            "_model_module_version": "1.5.0",
            "_model_name": "DescriptionStyleModel",
            "_view_count": null,
            "_view_module": "@jupyter-widgets/base",
            "_view_module_version": "1.2.0",
            "_view_name": "StyleView",
            "description_width": ""
          }
        },
        "806da58db0b8481db75f77081c01c949": {
          "model_module": "@jupyter-widgets/controls",
          "model_name": "HBoxModel",
          "model_module_version": "1.5.0",
          "state": {
            "_dom_classes": [],
            "_model_module": "@jupyter-widgets/controls",
            "_model_module_version": "1.5.0",
            "_model_name": "HBoxModel",
            "_view_count": null,
            "_view_module": "@jupyter-widgets/controls",
            "_view_module_version": "1.5.0",
            "_view_name": "HBoxView",
            "box_style": "",
            "children": [
              "IPY_MODEL_41194669cd624757a07b8fd813de29c6",
              "IPY_MODEL_4847b23a3c9a4be18d47c593945194e7",
              "IPY_MODEL_345c131183084af6923fb36ea3634767"
            ],
            "layout": "IPY_MODEL_910952ff1f594fbf9d6d6486bf14303e"
          }
        },
        "41194669cd624757a07b8fd813de29c6": {
          "model_module": "@jupyter-widgets/controls",
          "model_name": "HTMLModel",
          "model_module_version": "1.5.0",
          "state": {
            "_dom_classes": [],
            "_model_module": "@jupyter-widgets/controls",
            "_model_module_version": "1.5.0",
            "_model_name": "HTMLModel",
            "_view_count": null,
            "_view_module": "@jupyter-widgets/controls",
            "_view_module_version": "1.5.0",
            "_view_name": "HTMLView",
            "description": "",
            "description_tooltip": null,
            "layout": "IPY_MODEL_ea903d0e8a7b4b029d79211b67a8e561",
            "placeholder": "​",
            "style": "IPY_MODEL_e344654bc93847458df4c053b49fe660",
            "value": "Generating train examples...:  95%"
          }
        },
        "4847b23a3c9a4be18d47c593945194e7": {
          "model_module": "@jupyter-widgets/controls",
          "model_name": "FloatProgressModel",
          "model_module_version": "1.5.0",
          "state": {
            "_dom_classes": [],
            "_model_module": "@jupyter-widgets/controls",
            "_model_module_version": "1.5.0",
            "_model_name": "FloatProgressModel",
            "_view_count": null,
            "_view_module": "@jupyter-widgets/controls",
            "_view_module_version": "1.5.0",
            "_view_name": "ProgressView",
            "bar_style": "",
            "description": "",
            "description_tooltip": null,
            "layout": "IPY_MODEL_897c4221cfd641fda904f6257cdad27e",
            "max": 25000,
            "min": 0,
            "orientation": "horizontal",
            "style": "IPY_MODEL_0327c15c0ddf4010b5f92cef9b18d7fa",
            "value": 25000
          }
        },
        "345c131183084af6923fb36ea3634767": {
          "model_module": "@jupyter-widgets/controls",
          "model_name": "HTMLModel",
          "model_module_version": "1.5.0",
          "state": {
            "_dom_classes": [],
            "_model_module": "@jupyter-widgets/controls",
            "_model_module_version": "1.5.0",
            "_model_name": "HTMLModel",
            "_view_count": null,
            "_view_module": "@jupyter-widgets/controls",
            "_view_module_version": "1.5.0",
            "_view_name": "HTMLView",
            "description": "",
            "description_tooltip": null,
            "layout": "IPY_MODEL_e5ebf6eb1a4b41938f688d234910cbf9",
            "placeholder": "​",
            "style": "IPY_MODEL_ec5f65f9fe644e03863ef4b503edf6de",
            "value": " 23647/25000 [00:08&lt;00:00, 3723.00 examples/s]"
          }
        },
        "910952ff1f594fbf9d6d6486bf14303e": {
          "model_module": "@jupyter-widgets/base",
          "model_name": "LayoutModel",
          "model_module_version": "1.2.0",
          "state": {
            "_model_module": "@jupyter-widgets/base",
            "_model_module_version": "1.2.0",
            "_model_name": "LayoutModel",
            "_view_count": null,
            "_view_module": "@jupyter-widgets/base",
            "_view_module_version": "1.2.0",
            "_view_name": "LayoutView",
            "align_content": null,
            "align_items": null,
            "align_self": null,
            "border": null,
            "bottom": null,
            "display": null,
            "flex": null,
            "flex_flow": null,
            "grid_area": null,
            "grid_auto_columns": null,
            "grid_auto_flow": null,
            "grid_auto_rows": null,
            "grid_column": null,
            "grid_gap": null,
            "grid_row": null,
            "grid_template_areas": null,
            "grid_template_columns": null,
            "grid_template_rows": null,
            "height": null,
            "justify_content": null,
            "justify_items": null,
            "left": null,
            "margin": null,
            "max_height": null,
            "max_width": null,
            "min_height": null,
            "min_width": null,
            "object_fit": null,
            "object_position": null,
            "order": null,
            "overflow": null,
            "overflow_x": null,
            "overflow_y": null,
            "padding": null,
            "right": null,
            "top": null,
            "visibility": "hidden",
            "width": null
          }
        },
        "ea903d0e8a7b4b029d79211b67a8e561": {
          "model_module": "@jupyter-widgets/base",
          "model_name": "LayoutModel",
          "model_module_version": "1.2.0",
          "state": {
            "_model_module": "@jupyter-widgets/base",
            "_model_module_version": "1.2.0",
            "_model_name": "LayoutModel",
            "_view_count": null,
            "_view_module": "@jupyter-widgets/base",
            "_view_module_version": "1.2.0",
            "_view_name": "LayoutView",
            "align_content": null,
            "align_items": null,
            "align_self": null,
            "border": null,
            "bottom": null,
            "display": null,
            "flex": null,
            "flex_flow": null,
            "grid_area": null,
            "grid_auto_columns": null,
            "grid_auto_flow": null,
            "grid_auto_rows": null,
            "grid_column": null,
            "grid_gap": null,
            "grid_row": null,
            "grid_template_areas": null,
            "grid_template_columns": null,
            "grid_template_rows": null,
            "height": null,
            "justify_content": null,
            "justify_items": null,
            "left": null,
            "margin": null,
            "max_height": null,
            "max_width": null,
            "min_height": null,
            "min_width": null,
            "object_fit": null,
            "object_position": null,
            "order": null,
            "overflow": null,
            "overflow_x": null,
            "overflow_y": null,
            "padding": null,
            "right": null,
            "top": null,
            "visibility": null,
            "width": null
          }
        },
        "e344654bc93847458df4c053b49fe660": {
          "model_module": "@jupyter-widgets/controls",
          "model_name": "DescriptionStyleModel",
          "model_module_version": "1.5.0",
          "state": {
            "_model_module": "@jupyter-widgets/controls",
            "_model_module_version": "1.5.0",
            "_model_name": "DescriptionStyleModel",
            "_view_count": null,
            "_view_module": "@jupyter-widgets/base",
            "_view_module_version": "1.2.0",
            "_view_name": "StyleView",
            "description_width": ""
          }
        },
        "897c4221cfd641fda904f6257cdad27e": {
          "model_module": "@jupyter-widgets/base",
          "model_name": "LayoutModel",
          "model_module_version": "1.2.0",
          "state": {
            "_model_module": "@jupyter-widgets/base",
            "_model_module_version": "1.2.0",
            "_model_name": "LayoutModel",
            "_view_count": null,
            "_view_module": "@jupyter-widgets/base",
            "_view_module_version": "1.2.0",
            "_view_name": "LayoutView",
            "align_content": null,
            "align_items": null,
            "align_self": null,
            "border": null,
            "bottom": null,
            "display": null,
            "flex": null,
            "flex_flow": null,
            "grid_area": null,
            "grid_auto_columns": null,
            "grid_auto_flow": null,
            "grid_auto_rows": null,
            "grid_column": null,
            "grid_gap": null,
            "grid_row": null,
            "grid_template_areas": null,
            "grid_template_columns": null,
            "grid_template_rows": null,
            "height": null,
            "justify_content": null,
            "justify_items": null,
            "left": null,
            "margin": null,
            "max_height": null,
            "max_width": null,
            "min_height": null,
            "min_width": null,
            "object_fit": null,
            "object_position": null,
            "order": null,
            "overflow": null,
            "overflow_x": null,
            "overflow_y": null,
            "padding": null,
            "right": null,
            "top": null,
            "visibility": null,
            "width": null
          }
        },
        "0327c15c0ddf4010b5f92cef9b18d7fa": {
          "model_module": "@jupyter-widgets/controls",
          "model_name": "ProgressStyleModel",
          "model_module_version": "1.5.0",
          "state": {
            "_model_module": "@jupyter-widgets/controls",
            "_model_module_version": "1.5.0",
            "_model_name": "ProgressStyleModel",
            "_view_count": null,
            "_view_module": "@jupyter-widgets/base",
            "_view_module_version": "1.2.0",
            "_view_name": "StyleView",
            "bar_color": null,
            "description_width": ""
          }
        },
        "e5ebf6eb1a4b41938f688d234910cbf9": {
          "model_module": "@jupyter-widgets/base",
          "model_name": "LayoutModel",
          "model_module_version": "1.2.0",
          "state": {
            "_model_module": "@jupyter-widgets/base",
            "_model_module_version": "1.2.0",
            "_model_name": "LayoutModel",
            "_view_count": null,
            "_view_module": "@jupyter-widgets/base",
            "_view_module_version": "1.2.0",
            "_view_name": "LayoutView",
            "align_content": null,
            "align_items": null,
            "align_self": null,
            "border": null,
            "bottom": null,
            "display": null,
            "flex": null,
            "flex_flow": null,
            "grid_area": null,
            "grid_auto_columns": null,
            "grid_auto_flow": null,
            "grid_auto_rows": null,
            "grid_column": null,
            "grid_gap": null,
            "grid_row": null,
            "grid_template_areas": null,
            "grid_template_columns": null,
            "grid_template_rows": null,
            "height": null,
            "justify_content": null,
            "justify_items": null,
            "left": null,
            "margin": null,
            "max_height": null,
            "max_width": null,
            "min_height": null,
            "min_width": null,
            "object_fit": null,
            "object_position": null,
            "order": null,
            "overflow": null,
            "overflow_x": null,
            "overflow_y": null,
            "padding": null,
            "right": null,
            "top": null,
            "visibility": null,
            "width": null
          }
        },
        "ec5f65f9fe644e03863ef4b503edf6de": {
          "model_module": "@jupyter-widgets/controls",
          "model_name": "DescriptionStyleModel",
          "model_module_version": "1.5.0",
          "state": {
            "_model_module": "@jupyter-widgets/controls",
            "_model_module_version": "1.5.0",
            "_model_name": "DescriptionStyleModel",
            "_view_count": null,
            "_view_module": "@jupyter-widgets/base",
            "_view_module_version": "1.2.0",
            "_view_name": "StyleView",
            "description_width": ""
          }
        },
        "73666796f071458a86a04a89b64e27cf": {
          "model_module": "@jupyter-widgets/controls",
          "model_name": "HBoxModel",
          "model_module_version": "1.5.0",
          "state": {
            "_dom_classes": [],
            "_model_module": "@jupyter-widgets/controls",
            "_model_module_version": "1.5.0",
            "_model_name": "HBoxModel",
            "_view_count": null,
            "_view_module": "@jupyter-widgets/controls",
            "_view_module_version": "1.5.0",
            "_view_name": "HBoxView",
            "box_style": "",
            "children": [
              "IPY_MODEL_4691d4c456104304a149c0a62a8fb703",
              "IPY_MODEL_3137800986b340ed9da64ca6751fafed",
              "IPY_MODEL_f6d496a3c21d4395b6289ea19a69ac82"
            ],
            "layout": "IPY_MODEL_df91c9463428425fa67212007db66b7a"
          }
        },
        "4691d4c456104304a149c0a62a8fb703": {
          "model_module": "@jupyter-widgets/controls",
          "model_name": "HTMLModel",
          "model_module_version": "1.5.0",
          "state": {
            "_dom_classes": [],
            "_model_module": "@jupyter-widgets/controls",
            "_model_module_version": "1.5.0",
            "_model_name": "HTMLModel",
            "_view_count": null,
            "_view_module": "@jupyter-widgets/controls",
            "_view_module_version": "1.5.0",
            "_view_name": "HTMLView",
            "description": "",
            "description_tooltip": null,
            "layout": "IPY_MODEL_598e0cfad8754f0abd1523e0cc0aaa71",
            "placeholder": "​",
            "style": "IPY_MODEL_96c5aa7ad324419eb400dd38970d8929",
            "value": "Shuffling /root/tensorflow_datasets/imdb_reviews/plain_text/1.0.0.incompleteV5YOZG/imdb_reviews-train.tfrecord*...:  45%"
          }
        },
        "3137800986b340ed9da64ca6751fafed": {
          "model_module": "@jupyter-widgets/controls",
          "model_name": "FloatProgressModel",
          "model_module_version": "1.5.0",
          "state": {
            "_dom_classes": [],
            "_model_module": "@jupyter-widgets/controls",
            "_model_module_version": "1.5.0",
            "_model_name": "FloatProgressModel",
            "_view_count": null,
            "_view_module": "@jupyter-widgets/controls",
            "_view_module_version": "1.5.0",
            "_view_name": "ProgressView",
            "bar_style": "",
            "description": "",
            "description_tooltip": null,
            "layout": "IPY_MODEL_5cc2a5e17a654b79917ead0414dd29f0",
            "max": 25000,
            "min": 0,
            "orientation": "horizontal",
            "style": "IPY_MODEL_43520653129d4521b17a33165b45ec43",
            "value": 25000
          }
        },
        "f6d496a3c21d4395b6289ea19a69ac82": {
          "model_module": "@jupyter-widgets/controls",
          "model_name": "HTMLModel",
          "model_module_version": "1.5.0",
          "state": {
            "_dom_classes": [],
            "_model_module": "@jupyter-widgets/controls",
            "_model_module_version": "1.5.0",
            "_model_name": "HTMLModel",
            "_view_count": null,
            "_view_module": "@jupyter-widgets/controls",
            "_view_module_version": "1.5.0",
            "_view_name": "HTMLView",
            "description": "",
            "description_tooltip": null,
            "layout": "IPY_MODEL_1792448699eb4bd9a22d6b80afabaf7c",
            "placeholder": "​",
            "style": "IPY_MODEL_7efea1a333594ef1aacaf6e7a6e43a36",
            "value": " 11342/25000 [00:00&lt;00:00, 113401.99 examples/s]"
          }
        },
        "df91c9463428425fa67212007db66b7a": {
          "model_module": "@jupyter-widgets/base",
          "model_name": "LayoutModel",
          "model_module_version": "1.2.0",
          "state": {
            "_model_module": "@jupyter-widgets/base",
            "_model_module_version": "1.2.0",
            "_model_name": "LayoutModel",
            "_view_count": null,
            "_view_module": "@jupyter-widgets/base",
            "_view_module_version": "1.2.0",
            "_view_name": "LayoutView",
            "align_content": null,
            "align_items": null,
            "align_self": null,
            "border": null,
            "bottom": null,
            "display": null,
            "flex": null,
            "flex_flow": null,
            "grid_area": null,
            "grid_auto_columns": null,
            "grid_auto_flow": null,
            "grid_auto_rows": null,
            "grid_column": null,
            "grid_gap": null,
            "grid_row": null,
            "grid_template_areas": null,
            "grid_template_columns": null,
            "grid_template_rows": null,
            "height": null,
            "justify_content": null,
            "justify_items": null,
            "left": null,
            "margin": null,
            "max_height": null,
            "max_width": null,
            "min_height": null,
            "min_width": null,
            "object_fit": null,
            "object_position": null,
            "order": null,
            "overflow": null,
            "overflow_x": null,
            "overflow_y": null,
            "padding": null,
            "right": null,
            "top": null,
            "visibility": "hidden",
            "width": null
          }
        },
        "598e0cfad8754f0abd1523e0cc0aaa71": {
          "model_module": "@jupyter-widgets/base",
          "model_name": "LayoutModel",
          "model_module_version": "1.2.0",
          "state": {
            "_model_module": "@jupyter-widgets/base",
            "_model_module_version": "1.2.0",
            "_model_name": "LayoutModel",
            "_view_count": null,
            "_view_module": "@jupyter-widgets/base",
            "_view_module_version": "1.2.0",
            "_view_name": "LayoutView",
            "align_content": null,
            "align_items": null,
            "align_self": null,
            "border": null,
            "bottom": null,
            "display": null,
            "flex": null,
            "flex_flow": null,
            "grid_area": null,
            "grid_auto_columns": null,
            "grid_auto_flow": null,
            "grid_auto_rows": null,
            "grid_column": null,
            "grid_gap": null,
            "grid_row": null,
            "grid_template_areas": null,
            "grid_template_columns": null,
            "grid_template_rows": null,
            "height": null,
            "justify_content": null,
            "justify_items": null,
            "left": null,
            "margin": null,
            "max_height": null,
            "max_width": null,
            "min_height": null,
            "min_width": null,
            "object_fit": null,
            "object_position": null,
            "order": null,
            "overflow": null,
            "overflow_x": null,
            "overflow_y": null,
            "padding": null,
            "right": null,
            "top": null,
            "visibility": null,
            "width": null
          }
        },
        "96c5aa7ad324419eb400dd38970d8929": {
          "model_module": "@jupyter-widgets/controls",
          "model_name": "DescriptionStyleModel",
          "model_module_version": "1.5.0",
          "state": {
            "_model_module": "@jupyter-widgets/controls",
            "_model_module_version": "1.5.0",
            "_model_name": "DescriptionStyleModel",
            "_view_count": null,
            "_view_module": "@jupyter-widgets/base",
            "_view_module_version": "1.2.0",
            "_view_name": "StyleView",
            "description_width": ""
          }
        },
        "5cc2a5e17a654b79917ead0414dd29f0": {
          "model_module": "@jupyter-widgets/base",
          "model_name": "LayoutModel",
          "model_module_version": "1.2.0",
          "state": {
            "_model_module": "@jupyter-widgets/base",
            "_model_module_version": "1.2.0",
            "_model_name": "LayoutModel",
            "_view_count": null,
            "_view_module": "@jupyter-widgets/base",
            "_view_module_version": "1.2.0",
            "_view_name": "LayoutView",
            "align_content": null,
            "align_items": null,
            "align_self": null,
            "border": null,
            "bottom": null,
            "display": null,
            "flex": null,
            "flex_flow": null,
            "grid_area": null,
            "grid_auto_columns": null,
            "grid_auto_flow": null,
            "grid_auto_rows": null,
            "grid_column": null,
            "grid_gap": null,
            "grid_row": null,
            "grid_template_areas": null,
            "grid_template_columns": null,
            "grid_template_rows": null,
            "height": null,
            "justify_content": null,
            "justify_items": null,
            "left": null,
            "margin": null,
            "max_height": null,
            "max_width": null,
            "min_height": null,
            "min_width": null,
            "object_fit": null,
            "object_position": null,
            "order": null,
            "overflow": null,
            "overflow_x": null,
            "overflow_y": null,
            "padding": null,
            "right": null,
            "top": null,
            "visibility": null,
            "width": null
          }
        },
        "43520653129d4521b17a33165b45ec43": {
          "model_module": "@jupyter-widgets/controls",
          "model_name": "ProgressStyleModel",
          "model_module_version": "1.5.0",
          "state": {
            "_model_module": "@jupyter-widgets/controls",
            "_model_module_version": "1.5.0",
            "_model_name": "ProgressStyleModel",
            "_view_count": null,
            "_view_module": "@jupyter-widgets/base",
            "_view_module_version": "1.2.0",
            "_view_name": "StyleView",
            "bar_color": null,
            "description_width": ""
          }
        },
        "1792448699eb4bd9a22d6b80afabaf7c": {
          "model_module": "@jupyter-widgets/base",
          "model_name": "LayoutModel",
          "model_module_version": "1.2.0",
          "state": {
            "_model_module": "@jupyter-widgets/base",
            "_model_module_version": "1.2.0",
            "_model_name": "LayoutModel",
            "_view_count": null,
            "_view_module": "@jupyter-widgets/base",
            "_view_module_version": "1.2.0",
            "_view_name": "LayoutView",
            "align_content": null,
            "align_items": null,
            "align_self": null,
            "border": null,
            "bottom": null,
            "display": null,
            "flex": null,
            "flex_flow": null,
            "grid_area": null,
            "grid_auto_columns": null,
            "grid_auto_flow": null,
            "grid_auto_rows": null,
            "grid_column": null,
            "grid_gap": null,
            "grid_row": null,
            "grid_template_areas": null,
            "grid_template_columns": null,
            "grid_template_rows": null,
            "height": null,
            "justify_content": null,
            "justify_items": null,
            "left": null,
            "margin": null,
            "max_height": null,
            "max_width": null,
            "min_height": null,
            "min_width": null,
            "object_fit": null,
            "object_position": null,
            "order": null,
            "overflow": null,
            "overflow_x": null,
            "overflow_y": null,
            "padding": null,
            "right": null,
            "top": null,
            "visibility": null,
            "width": null
          }
        },
        "7efea1a333594ef1aacaf6e7a6e43a36": {
          "model_module": "@jupyter-widgets/controls",
          "model_name": "DescriptionStyleModel",
          "model_module_version": "1.5.0",
          "state": {
            "_model_module": "@jupyter-widgets/controls",
            "_model_module_version": "1.5.0",
            "_model_name": "DescriptionStyleModel",
            "_view_count": null,
            "_view_module": "@jupyter-widgets/base",
            "_view_module_version": "1.2.0",
            "_view_name": "StyleView",
            "description_width": ""
          }
        },
        "dc13ea0074cc404c97fe1899c7eb7d09": {
          "model_module": "@jupyter-widgets/controls",
          "model_name": "HBoxModel",
          "model_module_version": "1.5.0",
          "state": {
            "_dom_classes": [],
            "_model_module": "@jupyter-widgets/controls",
            "_model_module_version": "1.5.0",
            "_model_name": "HBoxModel",
            "_view_count": null,
            "_view_module": "@jupyter-widgets/controls",
            "_view_module_version": "1.5.0",
            "_view_name": "HBoxView",
            "box_style": "",
            "children": [
              "IPY_MODEL_81aa5553618046388b5548e0de4c3ff1",
              "IPY_MODEL_c6e1b72d064646e781f12a74f945f003",
              "IPY_MODEL_e27458a0743a4d72890d788d4f81c4c2"
            ],
            "layout": "IPY_MODEL_e47b57406e304a1e929161ffaa9ad4ff"
          }
        },
        "81aa5553618046388b5548e0de4c3ff1": {
          "model_module": "@jupyter-widgets/controls",
          "model_name": "HTMLModel",
          "model_module_version": "1.5.0",
          "state": {
            "_dom_classes": [],
            "_model_module": "@jupyter-widgets/controls",
            "_model_module_version": "1.5.0",
            "_model_name": "HTMLModel",
            "_view_count": null,
            "_view_module": "@jupyter-widgets/controls",
            "_view_module_version": "1.5.0",
            "_view_name": "HTMLView",
            "description": "",
            "description_tooltip": null,
            "layout": "IPY_MODEL_2e9e3206d2c64e659a0afe9b3725ea4f",
            "placeholder": "​",
            "style": "IPY_MODEL_da1b3c8ebb384b3da1de4777444a2b2f",
            "value": "Generating test examples...:  97%"
          }
        },
        "c6e1b72d064646e781f12a74f945f003": {
          "model_module": "@jupyter-widgets/controls",
          "model_name": "FloatProgressModel",
          "model_module_version": "1.5.0",
          "state": {
            "_dom_classes": [],
            "_model_module": "@jupyter-widgets/controls",
            "_model_module_version": "1.5.0",
            "_model_name": "FloatProgressModel",
            "_view_count": null,
            "_view_module": "@jupyter-widgets/controls",
            "_view_module_version": "1.5.0",
            "_view_name": "ProgressView",
            "bar_style": "",
            "description": "",
            "description_tooltip": null,
            "layout": "IPY_MODEL_62882d52e6774f98af2cf8c11b010c73",
            "max": 25000,
            "min": 0,
            "orientation": "horizontal",
            "style": "IPY_MODEL_f1d40493c6ed4ccf8084a6e67fb7a165",
            "value": 25000
          }
        },
        "e27458a0743a4d72890d788d4f81c4c2": {
          "model_module": "@jupyter-widgets/controls",
          "model_name": "HTMLModel",
          "model_module_version": "1.5.0",
          "state": {
            "_dom_classes": [],
            "_model_module": "@jupyter-widgets/controls",
            "_model_module_version": "1.5.0",
            "_model_name": "HTMLModel",
            "_view_count": null,
            "_view_module": "@jupyter-widgets/controls",
            "_view_module_version": "1.5.0",
            "_view_name": "HTMLView",
            "description": "",
            "description_tooltip": null,
            "layout": "IPY_MODEL_23fb0c5200614f12936380e221d02ce1",
            "placeholder": "​",
            "style": "IPY_MODEL_c37fb387e26f4c20868024e4340106ac",
            "value": " 24320/25000 [00:05&lt;00:00, 5218.22 examples/s]"
          }
        },
        "e47b57406e304a1e929161ffaa9ad4ff": {
          "model_module": "@jupyter-widgets/base",
          "model_name": "LayoutModel",
          "model_module_version": "1.2.0",
          "state": {
            "_model_module": "@jupyter-widgets/base",
            "_model_module_version": "1.2.0",
            "_model_name": "LayoutModel",
            "_view_count": null,
            "_view_module": "@jupyter-widgets/base",
            "_view_module_version": "1.2.0",
            "_view_name": "LayoutView",
            "align_content": null,
            "align_items": null,
            "align_self": null,
            "border": null,
            "bottom": null,
            "display": null,
            "flex": null,
            "flex_flow": null,
            "grid_area": null,
            "grid_auto_columns": null,
            "grid_auto_flow": null,
            "grid_auto_rows": null,
            "grid_column": null,
            "grid_gap": null,
            "grid_row": null,
            "grid_template_areas": null,
            "grid_template_columns": null,
            "grid_template_rows": null,
            "height": null,
            "justify_content": null,
            "justify_items": null,
            "left": null,
            "margin": null,
            "max_height": null,
            "max_width": null,
            "min_height": null,
            "min_width": null,
            "object_fit": null,
            "object_position": null,
            "order": null,
            "overflow": null,
            "overflow_x": null,
            "overflow_y": null,
            "padding": null,
            "right": null,
            "top": null,
            "visibility": "hidden",
            "width": null
          }
        },
        "2e9e3206d2c64e659a0afe9b3725ea4f": {
          "model_module": "@jupyter-widgets/base",
          "model_name": "LayoutModel",
          "model_module_version": "1.2.0",
          "state": {
            "_model_module": "@jupyter-widgets/base",
            "_model_module_version": "1.2.0",
            "_model_name": "LayoutModel",
            "_view_count": null,
            "_view_module": "@jupyter-widgets/base",
            "_view_module_version": "1.2.0",
            "_view_name": "LayoutView",
            "align_content": null,
            "align_items": null,
            "align_self": null,
            "border": null,
            "bottom": null,
            "display": null,
            "flex": null,
            "flex_flow": null,
            "grid_area": null,
            "grid_auto_columns": null,
            "grid_auto_flow": null,
            "grid_auto_rows": null,
            "grid_column": null,
            "grid_gap": null,
            "grid_row": null,
            "grid_template_areas": null,
            "grid_template_columns": null,
            "grid_template_rows": null,
            "height": null,
            "justify_content": null,
            "justify_items": null,
            "left": null,
            "margin": null,
            "max_height": null,
            "max_width": null,
            "min_height": null,
            "min_width": null,
            "object_fit": null,
            "object_position": null,
            "order": null,
            "overflow": null,
            "overflow_x": null,
            "overflow_y": null,
            "padding": null,
            "right": null,
            "top": null,
            "visibility": null,
            "width": null
          }
        },
        "da1b3c8ebb384b3da1de4777444a2b2f": {
          "model_module": "@jupyter-widgets/controls",
          "model_name": "DescriptionStyleModel",
          "model_module_version": "1.5.0",
          "state": {
            "_model_module": "@jupyter-widgets/controls",
            "_model_module_version": "1.5.0",
            "_model_name": "DescriptionStyleModel",
            "_view_count": null,
            "_view_module": "@jupyter-widgets/base",
            "_view_module_version": "1.2.0",
            "_view_name": "StyleView",
            "description_width": ""
          }
        },
        "62882d52e6774f98af2cf8c11b010c73": {
          "model_module": "@jupyter-widgets/base",
          "model_name": "LayoutModel",
          "model_module_version": "1.2.0",
          "state": {
            "_model_module": "@jupyter-widgets/base",
            "_model_module_version": "1.2.0",
            "_model_name": "LayoutModel",
            "_view_count": null,
            "_view_module": "@jupyter-widgets/base",
            "_view_module_version": "1.2.0",
            "_view_name": "LayoutView",
            "align_content": null,
            "align_items": null,
            "align_self": null,
            "border": null,
            "bottom": null,
            "display": null,
            "flex": null,
            "flex_flow": null,
            "grid_area": null,
            "grid_auto_columns": null,
            "grid_auto_flow": null,
            "grid_auto_rows": null,
            "grid_column": null,
            "grid_gap": null,
            "grid_row": null,
            "grid_template_areas": null,
            "grid_template_columns": null,
            "grid_template_rows": null,
            "height": null,
            "justify_content": null,
            "justify_items": null,
            "left": null,
            "margin": null,
            "max_height": null,
            "max_width": null,
            "min_height": null,
            "min_width": null,
            "object_fit": null,
            "object_position": null,
            "order": null,
            "overflow": null,
            "overflow_x": null,
            "overflow_y": null,
            "padding": null,
            "right": null,
            "top": null,
            "visibility": null,
            "width": null
          }
        },
        "f1d40493c6ed4ccf8084a6e67fb7a165": {
          "model_module": "@jupyter-widgets/controls",
          "model_name": "ProgressStyleModel",
          "model_module_version": "1.5.0",
          "state": {
            "_model_module": "@jupyter-widgets/controls",
            "_model_module_version": "1.5.0",
            "_model_name": "ProgressStyleModel",
            "_view_count": null,
            "_view_module": "@jupyter-widgets/base",
            "_view_module_version": "1.2.0",
            "_view_name": "StyleView",
            "bar_color": null,
            "description_width": ""
          }
        },
        "23fb0c5200614f12936380e221d02ce1": {
          "model_module": "@jupyter-widgets/base",
          "model_name": "LayoutModel",
          "model_module_version": "1.2.0",
          "state": {
            "_model_module": "@jupyter-widgets/base",
            "_model_module_version": "1.2.0",
            "_model_name": "LayoutModel",
            "_view_count": null,
            "_view_module": "@jupyter-widgets/base",
            "_view_module_version": "1.2.0",
            "_view_name": "LayoutView",
            "align_content": null,
            "align_items": null,
            "align_self": null,
            "border": null,
            "bottom": null,
            "display": null,
            "flex": null,
            "flex_flow": null,
            "grid_area": null,
            "grid_auto_columns": null,
            "grid_auto_flow": null,
            "grid_auto_rows": null,
            "grid_column": null,
            "grid_gap": null,
            "grid_row": null,
            "grid_template_areas": null,
            "grid_template_columns": null,
            "grid_template_rows": null,
            "height": null,
            "justify_content": null,
            "justify_items": null,
            "left": null,
            "margin": null,
            "max_height": null,
            "max_width": null,
            "min_height": null,
            "min_width": null,
            "object_fit": null,
            "object_position": null,
            "order": null,
            "overflow": null,
            "overflow_x": null,
            "overflow_y": null,
            "padding": null,
            "right": null,
            "top": null,
            "visibility": null,
            "width": null
          }
        },
        "c37fb387e26f4c20868024e4340106ac": {
          "model_module": "@jupyter-widgets/controls",
          "model_name": "DescriptionStyleModel",
          "model_module_version": "1.5.0",
          "state": {
            "_model_module": "@jupyter-widgets/controls",
            "_model_module_version": "1.5.0",
            "_model_name": "DescriptionStyleModel",
            "_view_count": null,
            "_view_module": "@jupyter-widgets/base",
            "_view_module_version": "1.2.0",
            "_view_name": "StyleView",
            "description_width": ""
          }
        },
        "502de135e1ed48268d34e5671345ea9e": {
          "model_module": "@jupyter-widgets/controls",
          "model_name": "HBoxModel",
          "model_module_version": "1.5.0",
          "state": {
            "_dom_classes": [],
            "_model_module": "@jupyter-widgets/controls",
            "_model_module_version": "1.5.0",
            "_model_name": "HBoxModel",
            "_view_count": null,
            "_view_module": "@jupyter-widgets/controls",
            "_view_module_version": "1.5.0",
            "_view_name": "HBoxView",
            "box_style": "",
            "children": [
              "IPY_MODEL_4c097faed66945cca236285e4d480a36",
              "IPY_MODEL_bac17af7380843ea9acf8ca0c583a82e",
              "IPY_MODEL_054c7d42758f4d839acb43e8c90e1597"
            ],
            "layout": "IPY_MODEL_0a59cfb5f81b4e969a74f9ad0e8669da"
          }
        },
        "4c097faed66945cca236285e4d480a36": {
          "model_module": "@jupyter-widgets/controls",
          "model_name": "HTMLModel",
          "model_module_version": "1.5.0",
          "state": {
            "_dom_classes": [],
            "_model_module": "@jupyter-widgets/controls",
            "_model_module_version": "1.5.0",
            "_model_name": "HTMLModel",
            "_view_count": null,
            "_view_module": "@jupyter-widgets/controls",
            "_view_module_version": "1.5.0",
            "_view_name": "HTMLView",
            "description": "",
            "description_tooltip": null,
            "layout": "IPY_MODEL_26207cd8aa304c34abc1cfd6fda8ea34",
            "placeholder": "​",
            "style": "IPY_MODEL_f5bf178fbf294f538be6ef9319e7427e",
            "value": "Shuffling /root/tensorflow_datasets/imdb_reviews/plain_text/1.0.0.incompleteV5YOZG/imdb_reviews-test.tfrecord*...:  49%"
          }
        },
        "bac17af7380843ea9acf8ca0c583a82e": {
          "model_module": "@jupyter-widgets/controls",
          "model_name": "FloatProgressModel",
          "model_module_version": "1.5.0",
          "state": {
            "_dom_classes": [],
            "_model_module": "@jupyter-widgets/controls",
            "_model_module_version": "1.5.0",
            "_model_name": "FloatProgressModel",
            "_view_count": null,
            "_view_module": "@jupyter-widgets/controls",
            "_view_module_version": "1.5.0",
            "_view_name": "ProgressView",
            "bar_style": "",
            "description": "",
            "description_tooltip": null,
            "layout": "IPY_MODEL_13b80aefd8c7482895035ee2094ab95c",
            "max": 25000,
            "min": 0,
            "orientation": "horizontal",
            "style": "IPY_MODEL_9b10a521036c42968fcb031442722c45",
            "value": 25000
          }
        },
        "054c7d42758f4d839acb43e8c90e1597": {
          "model_module": "@jupyter-widgets/controls",
          "model_name": "HTMLModel",
          "model_module_version": "1.5.0",
          "state": {
            "_dom_classes": [],
            "_model_module": "@jupyter-widgets/controls",
            "_model_module_version": "1.5.0",
            "_model_name": "HTMLModel",
            "_view_count": null,
            "_view_module": "@jupyter-widgets/controls",
            "_view_module_version": "1.5.0",
            "_view_name": "HTMLView",
            "description": "",
            "description_tooltip": null,
            "layout": "IPY_MODEL_b9a905cb6b954f9e8ff0602b8784589d",
            "placeholder": "​",
            "style": "IPY_MODEL_329af619b50e4b6a98c9c59c82d404da",
            "value": " 12325/25000 [00:00&lt;00:00, 123233.66 examples/s]"
          }
        },
        "0a59cfb5f81b4e969a74f9ad0e8669da": {
          "model_module": "@jupyter-widgets/base",
          "model_name": "LayoutModel",
          "model_module_version": "1.2.0",
          "state": {
            "_model_module": "@jupyter-widgets/base",
            "_model_module_version": "1.2.0",
            "_model_name": "LayoutModel",
            "_view_count": null,
            "_view_module": "@jupyter-widgets/base",
            "_view_module_version": "1.2.0",
            "_view_name": "LayoutView",
            "align_content": null,
            "align_items": null,
            "align_self": null,
            "border": null,
            "bottom": null,
            "display": null,
            "flex": null,
            "flex_flow": null,
            "grid_area": null,
            "grid_auto_columns": null,
            "grid_auto_flow": null,
            "grid_auto_rows": null,
            "grid_column": null,
            "grid_gap": null,
            "grid_row": null,
            "grid_template_areas": null,
            "grid_template_columns": null,
            "grid_template_rows": null,
            "height": null,
            "justify_content": null,
            "justify_items": null,
            "left": null,
            "margin": null,
            "max_height": null,
            "max_width": null,
            "min_height": null,
            "min_width": null,
            "object_fit": null,
            "object_position": null,
            "order": null,
            "overflow": null,
            "overflow_x": null,
            "overflow_y": null,
            "padding": null,
            "right": null,
            "top": null,
            "visibility": "hidden",
            "width": null
          }
        },
        "26207cd8aa304c34abc1cfd6fda8ea34": {
          "model_module": "@jupyter-widgets/base",
          "model_name": "LayoutModel",
          "model_module_version": "1.2.0",
          "state": {
            "_model_module": "@jupyter-widgets/base",
            "_model_module_version": "1.2.0",
            "_model_name": "LayoutModel",
            "_view_count": null,
            "_view_module": "@jupyter-widgets/base",
            "_view_module_version": "1.2.0",
            "_view_name": "LayoutView",
            "align_content": null,
            "align_items": null,
            "align_self": null,
            "border": null,
            "bottom": null,
            "display": null,
            "flex": null,
            "flex_flow": null,
            "grid_area": null,
            "grid_auto_columns": null,
            "grid_auto_flow": null,
            "grid_auto_rows": null,
            "grid_column": null,
            "grid_gap": null,
            "grid_row": null,
            "grid_template_areas": null,
            "grid_template_columns": null,
            "grid_template_rows": null,
            "height": null,
            "justify_content": null,
            "justify_items": null,
            "left": null,
            "margin": null,
            "max_height": null,
            "max_width": null,
            "min_height": null,
            "min_width": null,
            "object_fit": null,
            "object_position": null,
            "order": null,
            "overflow": null,
            "overflow_x": null,
            "overflow_y": null,
            "padding": null,
            "right": null,
            "top": null,
            "visibility": null,
            "width": null
          }
        },
        "f5bf178fbf294f538be6ef9319e7427e": {
          "model_module": "@jupyter-widgets/controls",
          "model_name": "DescriptionStyleModel",
          "model_module_version": "1.5.0",
          "state": {
            "_model_module": "@jupyter-widgets/controls",
            "_model_module_version": "1.5.0",
            "_model_name": "DescriptionStyleModel",
            "_view_count": null,
            "_view_module": "@jupyter-widgets/base",
            "_view_module_version": "1.2.0",
            "_view_name": "StyleView",
            "description_width": ""
          }
        },
        "13b80aefd8c7482895035ee2094ab95c": {
          "model_module": "@jupyter-widgets/base",
          "model_name": "LayoutModel",
          "model_module_version": "1.2.0",
          "state": {
            "_model_module": "@jupyter-widgets/base",
            "_model_module_version": "1.2.0",
            "_model_name": "LayoutModel",
            "_view_count": null,
            "_view_module": "@jupyter-widgets/base",
            "_view_module_version": "1.2.0",
            "_view_name": "LayoutView",
            "align_content": null,
            "align_items": null,
            "align_self": null,
            "border": null,
            "bottom": null,
            "display": null,
            "flex": null,
            "flex_flow": null,
            "grid_area": null,
            "grid_auto_columns": null,
            "grid_auto_flow": null,
            "grid_auto_rows": null,
            "grid_column": null,
            "grid_gap": null,
            "grid_row": null,
            "grid_template_areas": null,
            "grid_template_columns": null,
            "grid_template_rows": null,
            "height": null,
            "justify_content": null,
            "justify_items": null,
            "left": null,
            "margin": null,
            "max_height": null,
            "max_width": null,
            "min_height": null,
            "min_width": null,
            "object_fit": null,
            "object_position": null,
            "order": null,
            "overflow": null,
            "overflow_x": null,
            "overflow_y": null,
            "padding": null,
            "right": null,
            "top": null,
            "visibility": null,
            "width": null
          }
        },
        "9b10a521036c42968fcb031442722c45": {
          "model_module": "@jupyter-widgets/controls",
          "model_name": "ProgressStyleModel",
          "model_module_version": "1.5.0",
          "state": {
            "_model_module": "@jupyter-widgets/controls",
            "_model_module_version": "1.5.0",
            "_model_name": "ProgressStyleModel",
            "_view_count": null,
            "_view_module": "@jupyter-widgets/base",
            "_view_module_version": "1.2.0",
            "_view_name": "StyleView",
            "bar_color": null,
            "description_width": ""
          }
        },
        "b9a905cb6b954f9e8ff0602b8784589d": {
          "model_module": "@jupyter-widgets/base",
          "model_name": "LayoutModel",
          "model_module_version": "1.2.0",
          "state": {
            "_model_module": "@jupyter-widgets/base",
            "_model_module_version": "1.2.0",
            "_model_name": "LayoutModel",
            "_view_count": null,
            "_view_module": "@jupyter-widgets/base",
            "_view_module_version": "1.2.0",
            "_view_name": "LayoutView",
            "align_content": null,
            "align_items": null,
            "align_self": null,
            "border": null,
            "bottom": null,
            "display": null,
            "flex": null,
            "flex_flow": null,
            "grid_area": null,
            "grid_auto_columns": null,
            "grid_auto_flow": null,
            "grid_auto_rows": null,
            "grid_column": null,
            "grid_gap": null,
            "grid_row": null,
            "grid_template_areas": null,
            "grid_template_columns": null,
            "grid_template_rows": null,
            "height": null,
            "justify_content": null,
            "justify_items": null,
            "left": null,
            "margin": null,
            "max_height": null,
            "max_width": null,
            "min_height": null,
            "min_width": null,
            "object_fit": null,
            "object_position": null,
            "order": null,
            "overflow": null,
            "overflow_x": null,
            "overflow_y": null,
            "padding": null,
            "right": null,
            "top": null,
            "visibility": null,
            "width": null
          }
        },
        "329af619b50e4b6a98c9c59c82d404da": {
          "model_module": "@jupyter-widgets/controls",
          "model_name": "DescriptionStyleModel",
          "model_module_version": "1.5.0",
          "state": {
            "_model_module": "@jupyter-widgets/controls",
            "_model_module_version": "1.5.0",
            "_model_name": "DescriptionStyleModel",
            "_view_count": null,
            "_view_module": "@jupyter-widgets/base",
            "_view_module_version": "1.2.0",
            "_view_name": "StyleView",
            "description_width": ""
          }
        },
        "4577b38ca48b43329fb8a3ee92fd0275": {
          "model_module": "@jupyter-widgets/controls",
          "model_name": "HBoxModel",
          "model_module_version": "1.5.0",
          "state": {
            "_dom_classes": [],
            "_model_module": "@jupyter-widgets/controls",
            "_model_module_version": "1.5.0",
            "_model_name": "HBoxModel",
            "_view_count": null,
            "_view_module": "@jupyter-widgets/controls",
            "_view_module_version": "1.5.0",
            "_view_name": "HBoxView",
            "box_style": "",
            "children": [
              "IPY_MODEL_557f8b5f2b794b29bf0384c4e47fab0b",
              "IPY_MODEL_8cd614f9fb6e447a8b8c5e74367cea06",
              "IPY_MODEL_6e699556b7594d54830655a021b48ff0"
            ],
            "layout": "IPY_MODEL_c745b45f935a434ba00d8cbd6515041a"
          }
        },
        "557f8b5f2b794b29bf0384c4e47fab0b": {
          "model_module": "@jupyter-widgets/controls",
          "model_name": "HTMLModel",
          "model_module_version": "1.5.0",
          "state": {
            "_dom_classes": [],
            "_model_module": "@jupyter-widgets/controls",
            "_model_module_version": "1.5.0",
            "_model_name": "HTMLModel",
            "_view_count": null,
            "_view_module": "@jupyter-widgets/controls",
            "_view_module_version": "1.5.0",
            "_view_name": "HTMLView",
            "description": "",
            "description_tooltip": null,
            "layout": "IPY_MODEL_40cd4dc49cf24e8e9db39792e6d86652",
            "placeholder": "​",
            "style": "IPY_MODEL_1dc49f6023c64c72860a8396f965ed28",
            "value": "Generating unsupervised examples...:  92%"
          }
        },
        "8cd614f9fb6e447a8b8c5e74367cea06": {
          "model_module": "@jupyter-widgets/controls",
          "model_name": "FloatProgressModel",
          "model_module_version": "1.5.0",
          "state": {
            "_dom_classes": [],
            "_model_module": "@jupyter-widgets/controls",
            "_model_module_version": "1.5.0",
            "_model_name": "FloatProgressModel",
            "_view_count": null,
            "_view_module": "@jupyter-widgets/controls",
            "_view_module_version": "1.5.0",
            "_view_name": "ProgressView",
            "bar_style": "",
            "description": "",
            "description_tooltip": null,
            "layout": "IPY_MODEL_c32d33a4365543569bab7aac9c6ab06f",
            "max": 50000,
            "min": 0,
            "orientation": "horizontal",
            "style": "IPY_MODEL_b27fbe3c0a5e4356973843246f549b41",
            "value": 50000
          }
        },
        "6e699556b7594d54830655a021b48ff0": {
          "model_module": "@jupyter-widgets/controls",
          "model_name": "HTMLModel",
          "model_module_version": "1.5.0",
          "state": {
            "_dom_classes": [],
            "_model_module": "@jupyter-widgets/controls",
            "_model_module_version": "1.5.0",
            "_model_name": "HTMLModel",
            "_view_count": null,
            "_view_module": "@jupyter-widgets/controls",
            "_view_module_version": "1.5.0",
            "_view_name": "HTMLView",
            "description": "",
            "description_tooltip": null,
            "layout": "IPY_MODEL_25d76a9aa0f64e48982ce370cbd18c40",
            "placeholder": "​",
            "style": "IPY_MODEL_7eb1dd1a451f4144a78928aca51dd180",
            "value": " 45948/50000 [00:13&lt;00:00, 4603.76 examples/s]"
          }
        },
        "c745b45f935a434ba00d8cbd6515041a": {
          "model_module": "@jupyter-widgets/base",
          "model_name": "LayoutModel",
          "model_module_version": "1.2.0",
          "state": {
            "_model_module": "@jupyter-widgets/base",
            "_model_module_version": "1.2.0",
            "_model_name": "LayoutModel",
            "_view_count": null,
            "_view_module": "@jupyter-widgets/base",
            "_view_module_version": "1.2.0",
            "_view_name": "LayoutView",
            "align_content": null,
            "align_items": null,
            "align_self": null,
            "border": null,
            "bottom": null,
            "display": null,
            "flex": null,
            "flex_flow": null,
            "grid_area": null,
            "grid_auto_columns": null,
            "grid_auto_flow": null,
            "grid_auto_rows": null,
            "grid_column": null,
            "grid_gap": null,
            "grid_row": null,
            "grid_template_areas": null,
            "grid_template_columns": null,
            "grid_template_rows": null,
            "height": null,
            "justify_content": null,
            "justify_items": null,
            "left": null,
            "margin": null,
            "max_height": null,
            "max_width": null,
            "min_height": null,
            "min_width": null,
            "object_fit": null,
            "object_position": null,
            "order": null,
            "overflow": null,
            "overflow_x": null,
            "overflow_y": null,
            "padding": null,
            "right": null,
            "top": null,
            "visibility": "hidden",
            "width": null
          }
        },
        "40cd4dc49cf24e8e9db39792e6d86652": {
          "model_module": "@jupyter-widgets/base",
          "model_name": "LayoutModel",
          "model_module_version": "1.2.0",
          "state": {
            "_model_module": "@jupyter-widgets/base",
            "_model_module_version": "1.2.0",
            "_model_name": "LayoutModel",
            "_view_count": null,
            "_view_module": "@jupyter-widgets/base",
            "_view_module_version": "1.2.0",
            "_view_name": "LayoutView",
            "align_content": null,
            "align_items": null,
            "align_self": null,
            "border": null,
            "bottom": null,
            "display": null,
            "flex": null,
            "flex_flow": null,
            "grid_area": null,
            "grid_auto_columns": null,
            "grid_auto_flow": null,
            "grid_auto_rows": null,
            "grid_column": null,
            "grid_gap": null,
            "grid_row": null,
            "grid_template_areas": null,
            "grid_template_columns": null,
            "grid_template_rows": null,
            "height": null,
            "justify_content": null,
            "justify_items": null,
            "left": null,
            "margin": null,
            "max_height": null,
            "max_width": null,
            "min_height": null,
            "min_width": null,
            "object_fit": null,
            "object_position": null,
            "order": null,
            "overflow": null,
            "overflow_x": null,
            "overflow_y": null,
            "padding": null,
            "right": null,
            "top": null,
            "visibility": null,
            "width": null
          }
        },
        "1dc49f6023c64c72860a8396f965ed28": {
          "model_module": "@jupyter-widgets/controls",
          "model_name": "DescriptionStyleModel",
          "model_module_version": "1.5.0",
          "state": {
            "_model_module": "@jupyter-widgets/controls",
            "_model_module_version": "1.5.0",
            "_model_name": "DescriptionStyleModel",
            "_view_count": null,
            "_view_module": "@jupyter-widgets/base",
            "_view_module_version": "1.2.0",
            "_view_name": "StyleView",
            "description_width": ""
          }
        },
        "c32d33a4365543569bab7aac9c6ab06f": {
          "model_module": "@jupyter-widgets/base",
          "model_name": "LayoutModel",
          "model_module_version": "1.2.0",
          "state": {
            "_model_module": "@jupyter-widgets/base",
            "_model_module_version": "1.2.0",
            "_model_name": "LayoutModel",
            "_view_count": null,
            "_view_module": "@jupyter-widgets/base",
            "_view_module_version": "1.2.0",
            "_view_name": "LayoutView",
            "align_content": null,
            "align_items": null,
            "align_self": null,
            "border": null,
            "bottom": null,
            "display": null,
            "flex": null,
            "flex_flow": null,
            "grid_area": null,
            "grid_auto_columns": null,
            "grid_auto_flow": null,
            "grid_auto_rows": null,
            "grid_column": null,
            "grid_gap": null,
            "grid_row": null,
            "grid_template_areas": null,
            "grid_template_columns": null,
            "grid_template_rows": null,
            "height": null,
            "justify_content": null,
            "justify_items": null,
            "left": null,
            "margin": null,
            "max_height": null,
            "max_width": null,
            "min_height": null,
            "min_width": null,
            "object_fit": null,
            "object_position": null,
            "order": null,
            "overflow": null,
            "overflow_x": null,
            "overflow_y": null,
            "padding": null,
            "right": null,
            "top": null,
            "visibility": null,
            "width": null
          }
        },
        "b27fbe3c0a5e4356973843246f549b41": {
          "model_module": "@jupyter-widgets/controls",
          "model_name": "ProgressStyleModel",
          "model_module_version": "1.5.0",
          "state": {
            "_model_module": "@jupyter-widgets/controls",
            "_model_module_version": "1.5.0",
            "_model_name": "ProgressStyleModel",
            "_view_count": null,
            "_view_module": "@jupyter-widgets/base",
            "_view_module_version": "1.2.0",
            "_view_name": "StyleView",
            "bar_color": null,
            "description_width": ""
          }
        },
        "25d76a9aa0f64e48982ce370cbd18c40": {
          "model_module": "@jupyter-widgets/base",
          "model_name": "LayoutModel",
          "model_module_version": "1.2.0",
          "state": {
            "_model_module": "@jupyter-widgets/base",
            "_model_module_version": "1.2.0",
            "_model_name": "LayoutModel",
            "_view_count": null,
            "_view_module": "@jupyter-widgets/base",
            "_view_module_version": "1.2.0",
            "_view_name": "LayoutView",
            "align_content": null,
            "align_items": null,
            "align_self": null,
            "border": null,
            "bottom": null,
            "display": null,
            "flex": null,
            "flex_flow": null,
            "grid_area": null,
            "grid_auto_columns": null,
            "grid_auto_flow": null,
            "grid_auto_rows": null,
            "grid_column": null,
            "grid_gap": null,
            "grid_row": null,
            "grid_template_areas": null,
            "grid_template_columns": null,
            "grid_template_rows": null,
            "height": null,
            "justify_content": null,
            "justify_items": null,
            "left": null,
            "margin": null,
            "max_height": null,
            "max_width": null,
            "min_height": null,
            "min_width": null,
            "object_fit": null,
            "object_position": null,
            "order": null,
            "overflow": null,
            "overflow_x": null,
            "overflow_y": null,
            "padding": null,
            "right": null,
            "top": null,
            "visibility": null,
            "width": null
          }
        },
        "7eb1dd1a451f4144a78928aca51dd180": {
          "model_module": "@jupyter-widgets/controls",
          "model_name": "DescriptionStyleModel",
          "model_module_version": "1.5.0",
          "state": {
            "_model_module": "@jupyter-widgets/controls",
            "_model_module_version": "1.5.0",
            "_model_name": "DescriptionStyleModel",
            "_view_count": null,
            "_view_module": "@jupyter-widgets/base",
            "_view_module_version": "1.2.0",
            "_view_name": "StyleView",
            "description_width": ""
          }
        },
        "1d4b2c34c32a4bc683039077d13a1771": {
          "model_module": "@jupyter-widgets/controls",
          "model_name": "HBoxModel",
          "model_module_version": "1.5.0",
          "state": {
            "_dom_classes": [],
            "_model_module": "@jupyter-widgets/controls",
            "_model_module_version": "1.5.0",
            "_model_name": "HBoxModel",
            "_view_count": null,
            "_view_module": "@jupyter-widgets/controls",
            "_view_module_version": "1.5.0",
            "_view_name": "HBoxView",
            "box_style": "",
            "children": [
              "IPY_MODEL_85a8dae875aa414b9d88aab5a9fe4c38",
              "IPY_MODEL_4c6ac894a95e4a018acba4a33ec8e68e",
              "IPY_MODEL_502c0e3ee8194f069296b7c968ca4fb7"
            ],
            "layout": "IPY_MODEL_7431882c19ff49aea83b37dbae512d96"
          }
        },
        "85a8dae875aa414b9d88aab5a9fe4c38": {
          "model_module": "@jupyter-widgets/controls",
          "model_name": "HTMLModel",
          "model_module_version": "1.5.0",
          "state": {
            "_dom_classes": [],
            "_model_module": "@jupyter-widgets/controls",
            "_model_module_version": "1.5.0",
            "_model_name": "HTMLModel",
            "_view_count": null,
            "_view_module": "@jupyter-widgets/controls",
            "_view_module_version": "1.5.0",
            "_view_name": "HTMLView",
            "description": "",
            "description_tooltip": null,
            "layout": "IPY_MODEL_39b8a07da8f74b75859a02fa8248e0cf",
            "placeholder": "​",
            "style": "IPY_MODEL_179215e42c774d5e829207f666b5d8ce",
            "value": "Shuffling /root/tensorflow_datasets/imdb_reviews/plain_text/1.0.0.incompleteV5YOZG/imdb_reviews-unsupervised.tfrecord*...:  68%"
          }
        },
        "4c6ac894a95e4a018acba4a33ec8e68e": {
          "model_module": "@jupyter-widgets/controls",
          "model_name": "FloatProgressModel",
          "model_module_version": "1.5.0",
          "state": {
            "_dom_classes": [],
            "_model_module": "@jupyter-widgets/controls",
            "_model_module_version": "1.5.0",
            "_model_name": "FloatProgressModel",
            "_view_count": null,
            "_view_module": "@jupyter-widgets/controls",
            "_view_module_version": "1.5.0",
            "_view_name": "ProgressView",
            "bar_style": "",
            "description": "",
            "description_tooltip": null,
            "layout": "IPY_MODEL_16b183c2984b40eead805ca72a89c72b",
            "max": 50000,
            "min": 0,
            "orientation": "horizontal",
            "style": "IPY_MODEL_bb06ca10a75e4338b3d6c7da14cd5584",
            "value": 50000
          }
        },
        "502c0e3ee8194f069296b7c968ca4fb7": {
          "model_module": "@jupyter-widgets/controls",
          "model_name": "HTMLModel",
          "model_module_version": "1.5.0",
          "state": {
            "_dom_classes": [],
            "_model_module": "@jupyter-widgets/controls",
            "_model_module_version": "1.5.0",
            "_model_name": "HTMLModel",
            "_view_count": null,
            "_view_module": "@jupyter-widgets/controls",
            "_view_module_version": "1.5.0",
            "_view_name": "HTMLView",
            "description": "",
            "description_tooltip": null,
            "layout": "IPY_MODEL_9e0d69dd797d40d096ae43b0079ad82d",
            "placeholder": "​",
            "style": "IPY_MODEL_842c621340574cc7a5b9d9b0f5c08efd",
            "value": " 33830/50000 [00:00&lt;00:00, 184328.16 examples/s]"
          }
        },
        "7431882c19ff49aea83b37dbae512d96": {
          "model_module": "@jupyter-widgets/base",
          "model_name": "LayoutModel",
          "model_module_version": "1.2.0",
          "state": {
            "_model_module": "@jupyter-widgets/base",
            "_model_module_version": "1.2.0",
            "_model_name": "LayoutModel",
            "_view_count": null,
            "_view_module": "@jupyter-widgets/base",
            "_view_module_version": "1.2.0",
            "_view_name": "LayoutView",
            "align_content": null,
            "align_items": null,
            "align_self": null,
            "border": null,
            "bottom": null,
            "display": null,
            "flex": null,
            "flex_flow": null,
            "grid_area": null,
            "grid_auto_columns": null,
            "grid_auto_flow": null,
            "grid_auto_rows": null,
            "grid_column": null,
            "grid_gap": null,
            "grid_row": null,
            "grid_template_areas": null,
            "grid_template_columns": null,
            "grid_template_rows": null,
            "height": null,
            "justify_content": null,
            "justify_items": null,
            "left": null,
            "margin": null,
            "max_height": null,
            "max_width": null,
            "min_height": null,
            "min_width": null,
            "object_fit": null,
            "object_position": null,
            "order": null,
            "overflow": null,
            "overflow_x": null,
            "overflow_y": null,
            "padding": null,
            "right": null,
            "top": null,
            "visibility": "hidden",
            "width": null
          }
        },
        "39b8a07da8f74b75859a02fa8248e0cf": {
          "model_module": "@jupyter-widgets/base",
          "model_name": "LayoutModel",
          "model_module_version": "1.2.0",
          "state": {
            "_model_module": "@jupyter-widgets/base",
            "_model_module_version": "1.2.0",
            "_model_name": "LayoutModel",
            "_view_count": null,
            "_view_module": "@jupyter-widgets/base",
            "_view_module_version": "1.2.0",
            "_view_name": "LayoutView",
            "align_content": null,
            "align_items": null,
            "align_self": null,
            "border": null,
            "bottom": null,
            "display": null,
            "flex": null,
            "flex_flow": null,
            "grid_area": null,
            "grid_auto_columns": null,
            "grid_auto_flow": null,
            "grid_auto_rows": null,
            "grid_column": null,
            "grid_gap": null,
            "grid_row": null,
            "grid_template_areas": null,
            "grid_template_columns": null,
            "grid_template_rows": null,
            "height": null,
            "justify_content": null,
            "justify_items": null,
            "left": null,
            "margin": null,
            "max_height": null,
            "max_width": null,
            "min_height": null,
            "min_width": null,
            "object_fit": null,
            "object_position": null,
            "order": null,
            "overflow": null,
            "overflow_x": null,
            "overflow_y": null,
            "padding": null,
            "right": null,
            "top": null,
            "visibility": null,
            "width": null
          }
        },
        "179215e42c774d5e829207f666b5d8ce": {
          "model_module": "@jupyter-widgets/controls",
          "model_name": "DescriptionStyleModel",
          "model_module_version": "1.5.0",
          "state": {
            "_model_module": "@jupyter-widgets/controls",
            "_model_module_version": "1.5.0",
            "_model_name": "DescriptionStyleModel",
            "_view_count": null,
            "_view_module": "@jupyter-widgets/base",
            "_view_module_version": "1.2.0",
            "_view_name": "StyleView",
            "description_width": ""
          }
        },
        "16b183c2984b40eead805ca72a89c72b": {
          "model_module": "@jupyter-widgets/base",
          "model_name": "LayoutModel",
          "model_module_version": "1.2.0",
          "state": {
            "_model_module": "@jupyter-widgets/base",
            "_model_module_version": "1.2.0",
            "_model_name": "LayoutModel",
            "_view_count": null,
            "_view_module": "@jupyter-widgets/base",
            "_view_module_version": "1.2.0",
            "_view_name": "LayoutView",
            "align_content": null,
            "align_items": null,
            "align_self": null,
            "border": null,
            "bottom": null,
            "display": null,
            "flex": null,
            "flex_flow": null,
            "grid_area": null,
            "grid_auto_columns": null,
            "grid_auto_flow": null,
            "grid_auto_rows": null,
            "grid_column": null,
            "grid_gap": null,
            "grid_row": null,
            "grid_template_areas": null,
            "grid_template_columns": null,
            "grid_template_rows": null,
            "height": null,
            "justify_content": null,
            "justify_items": null,
            "left": null,
            "margin": null,
            "max_height": null,
            "max_width": null,
            "min_height": null,
            "min_width": null,
            "object_fit": null,
            "object_position": null,
            "order": null,
            "overflow": null,
            "overflow_x": null,
            "overflow_y": null,
            "padding": null,
            "right": null,
            "top": null,
            "visibility": null,
            "width": null
          }
        },
        "bb06ca10a75e4338b3d6c7da14cd5584": {
          "model_module": "@jupyter-widgets/controls",
          "model_name": "ProgressStyleModel",
          "model_module_version": "1.5.0",
          "state": {
            "_model_module": "@jupyter-widgets/controls",
            "_model_module_version": "1.5.0",
            "_model_name": "ProgressStyleModel",
            "_view_count": null,
            "_view_module": "@jupyter-widgets/base",
            "_view_module_version": "1.2.0",
            "_view_name": "StyleView",
            "bar_color": null,
            "description_width": ""
          }
        },
        "9e0d69dd797d40d096ae43b0079ad82d": {
          "model_module": "@jupyter-widgets/base",
          "model_name": "LayoutModel",
          "model_module_version": "1.2.0",
          "state": {
            "_model_module": "@jupyter-widgets/base",
            "_model_module_version": "1.2.0",
            "_model_name": "LayoutModel",
            "_view_count": null,
            "_view_module": "@jupyter-widgets/base",
            "_view_module_version": "1.2.0",
            "_view_name": "LayoutView",
            "align_content": null,
            "align_items": null,
            "align_self": null,
            "border": null,
            "bottom": null,
            "display": null,
            "flex": null,
            "flex_flow": null,
            "grid_area": null,
            "grid_auto_columns": null,
            "grid_auto_flow": null,
            "grid_auto_rows": null,
            "grid_column": null,
            "grid_gap": null,
            "grid_row": null,
            "grid_template_areas": null,
            "grid_template_columns": null,
            "grid_template_rows": null,
            "height": null,
            "justify_content": null,
            "justify_items": null,
            "left": null,
            "margin": null,
            "max_height": null,
            "max_width": null,
            "min_height": null,
            "min_width": null,
            "object_fit": null,
            "object_position": null,
            "order": null,
            "overflow": null,
            "overflow_x": null,
            "overflow_y": null,
            "padding": null,
            "right": null,
            "top": null,
            "visibility": null,
            "width": null
          }
        },
        "842c621340574cc7a5b9d9b0f5c08efd": {
          "model_module": "@jupyter-widgets/controls",
          "model_name": "DescriptionStyleModel",
          "model_module_version": "1.5.0",
          "state": {
            "_model_module": "@jupyter-widgets/controls",
            "_model_module_version": "1.5.0",
            "_model_name": "DescriptionStyleModel",
            "_view_count": null,
            "_view_module": "@jupyter-widgets/base",
            "_view_module_version": "1.2.0",
            "_view_name": "StyleView",
            "description_width": ""
          }
        }
      }
    }
  },
  "nbformat": 4,
  "nbformat_minor": 5
}